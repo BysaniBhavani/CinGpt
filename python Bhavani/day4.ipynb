{
 "cells": [
  {
   "cell_type": "code",
   "execution_count": 1,
   "id": "194c8f80",
   "metadata": {},
   "outputs": [
    {
     "data": {
      "text/plain": [
       "{'geetha': 100,\n",
       " 'madhu': 99,\n",
       " 'divya': 98,\n",
       " 'indhu': 97,\n",
       " 'raza': 96,\n",
       " 'bhavani': 50}"
      ]
     },
     "execution_count": 1,
     "metadata": {},
     "output_type": "execute_result"
    }
   ],
   "source": [
    "d={'geetha':100,'madhu':99,'divya':98,'indhu':97,'raza':96,'bhavani':50}\n",
    "d\n"
   ]
  },
  {
   "cell_type": "code",
   "execution_count": 2,
   "id": "102b8d21",
   "metadata": {},
   "outputs": [
    {
     "data": {
      "text/plain": [
       "100"
      ]
     },
     "execution_count": 2,
     "metadata": {},
     "output_type": "execute_result"
    }
   ],
   "source": [
    "marks=d.values()\n",
    "max=max(marks)\n",
    "max"
   ]
  },
  {
   "cell_type": "code",
   "execution_count": 6,
   "id": "98431f8a",
   "metadata": {},
   "outputs": [
    {
     "name": "stdout",
     "output_type": "stream",
     "text": [
      "geetha\n"
     ]
    }
   ],
   "source": [
    "for k,v in d.items():\n",
    "    if v==max :\n",
    "        print(k)"
   ]
  },
  {
   "cell_type": "code",
   "execution_count": 7,
   "id": "08830e50",
   "metadata": {},
   "outputs": [
    {
     "name": "stdout",
     "output_type": "stream",
     "text": [
      "total marks of all the students:  540\n",
      "average of the students is:  90.0\n"
     ]
    }
   ],
   "source": [
    "# total marks of all the students\n",
    "\n",
    "total = sum(marks)\n",
    "print(\"total marks of all the students: \",total)\n",
    "n=len(marks)\n",
    "avg=total/n\n",
    "print(\"average of the students is: \",avg)"
   ]
  },
  {
   "cell_type": "code",
   "execution_count": 8,
   "id": "3dc4d678",
   "metadata": {},
   "outputs": [
    {
     "data": {
      "text/plain": [
       "{'geetha': 100, 'divya': 98, 'indhu': 97, 'raza': 96, 'bhavani': 50}"
      ]
     },
     "execution_count": 8,
     "metadata": {},
     "output_type": "execute_result"
    }
   ],
   "source": [
    "d={'geetha':100,'madhu':99,'divya':98,'indhu':97,'raza':96,'bhavani':50}\n",
    "d.pop('madhu')\n",
    "d"
   ]
  },
  {
   "cell_type": "code",
   "execution_count": 9,
   "id": "4711d124",
   "metadata": {},
   "outputs": [
    {
     "data": {
      "text/plain": [
       "{'geetha': 100, 'madhu': 99, 'divya': 98, 'indhu': 97, 'raza': 96}"
      ]
     },
     "execution_count": 9,
     "metadata": {},
     "output_type": "execute_result"
    }
   ],
   "source": [
    "d={'geetha':100,'madhu':99,'divya':98,'indhu':97,'raza':96,'bhavani':50}\n",
    "d.popitem()\n",
    "d"
   ]
  },
  {
   "cell_type": "code",
   "execution_count": 10,
   "id": "45ea1ac3",
   "metadata": {},
   "outputs": [
    {
     "name": "stdout",
     "output_type": "stream",
     "text": [
      "['__class__', '__class_getitem__', '__contains__', '__delattr__', '__delitem__', '__dir__', '__doc__', '__eq__', '__format__', '__ge__', '__getattribute__', '__getitem__', '__getstate__', '__gt__', '__hash__', '__init__', '__init_subclass__', '__ior__', '__iter__', '__le__', '__len__', '__lt__', '__ne__', '__new__', '__or__', '__reduce__', '__reduce_ex__', '__repr__', '__reversed__', '__ror__', '__setattr__', '__setitem__', '__sizeof__', '__str__', '__subclasshook__', 'clear', 'copy', 'fromkeys', 'get', 'items', 'keys', 'pop', 'popitem', 'setdefault', 'update', 'values']\n"
     ]
    }
   ],
   "source": [
    "print(dir(d))"
   ]
  },
  {
   "cell_type": "code",
   "execution_count": 12,
   "id": "9e2ba099",
   "metadata": {},
   "outputs": [
    {
     "name": "stdout",
     "output_type": "stream",
     "text": [
      "{'str1': 10, 'str2': 20}\n",
      "{'str1': 10, 'str2': 20}\n"
     ]
    }
   ],
   "source": [
    "d1={1:31,2:34}\n",
    "d2={\"str1\":10,\"str2\":20}\n",
    "d1=d2.copy()\n",
    "print(d1)\n",
    "print(d2)"
   ]
  },
  {
   "cell_type": "code",
   "execution_count": 16,
   "id": "460f32b8",
   "metadata": {},
   "outputs": [
    {
     "data": {
      "text/plain": [
       "{'str1': 65, 'str2': 20}"
      ]
     },
     "execution_count": 16,
     "metadata": {},
     "output_type": "execute_result"
    }
   ],
   "source": [
    "d2.update({'str1':65}) #update({key:value})\n",
    "d2"
   ]
  },
  {
   "cell_type": "code",
   "execution_count": 19,
   "id": "4001ba14",
   "metadata": {},
   "outputs": [
    {
     "data": {
      "text/plain": [
       "{'str1': 31, 'str2': 20}"
      ]
     },
     "execution_count": 19,
     "metadata": {},
     "output_type": "execute_result"
    }
   ],
   "source": [
    "d2['str1']=31\n",
    "d2"
   ]
  },
  {
   "cell_type": "code",
   "execution_count": 20,
   "id": "c1803ea9",
   "metadata": {},
   "outputs": [
    {
     "data": {
      "text/plain": [
       "{}"
      ]
     },
     "execution_count": 20,
     "metadata": {},
     "output_type": "execute_result"
    }
   ],
   "source": [
    "d2.clear() # clear the date in the dictionary , dictionary will be empty\n",
    "d2"
   ]
  },
  {
   "cell_type": "code",
   "execution_count": 23,
   "id": "9a18eef7",
   "metadata": {},
   "outputs": [
    {
     "ename": "NameError",
     "evalue": "name 'd2' is not defined",
     "output_type": "error",
     "traceback": [
      "\u001b[1;31m---------------------------------------------------------------------------\u001b[0m",
      "\u001b[1;31mNameError\u001b[0m                                 Traceback (most recent call last)",
      "Cell \u001b[1;32mIn[23], line 1\u001b[0m\n\u001b[1;32m----> 1\u001b[0m \u001b[38;5;28;01mdel\u001b[39;00m d2\n",
      "\u001b[1;31mNameError\u001b[0m: name 'd2' is not defined"
     ]
    }
   ],
   "source": [
    "del d2 #deletes the dictionary , dictionary will be deleted"
   ]
  },
  {
   "cell_type": "code",
   "execution_count": 22,
   "id": "fc0fac48",
   "metadata": {},
   "outputs": [
    {
     "ename": "NameError",
     "evalue": "name 'd2' is not defined",
     "output_type": "error",
     "traceback": [
      "\u001b[1;31m---------------------------------------------------------------------------\u001b[0m",
      "\u001b[1;31mNameError\u001b[0m                                 Traceback (most recent call last)",
      "Cell \u001b[1;32mIn[22], line 1\u001b[0m\n\u001b[1;32m----> 1\u001b[0m d2\n",
      "\u001b[1;31mNameError\u001b[0m: name 'd2' is not defined"
     ]
    }
   ],
   "source": [
    "d2"
   ]
  },
  {
   "cell_type": "code",
   "execution_count": 24,
   "id": "32cf1dfb",
   "metadata": {},
   "outputs": [
    {
     "name": "stdout",
     "output_type": "stream",
     "text": [
      "True\n",
      "False\n"
     ]
    }
   ],
   "source": [
    "#membership operator 'in'\n",
    "\n",
    "d={1:100,2:200,3:300}\n",
    "print(2 in d) # key is present or not\n",
    "print(5 in d)"
   ]
  },
  {
   "cell_type": "code",
   "execution_count": 26,
   "id": "d01b6d83",
   "metadata": {},
   "outputs": [
    {
     "data": {
      "text/plain": [
       "300"
      ]
     },
     "execution_count": 26,
     "metadata": {},
     "output_type": "execute_result"
    }
   ],
   "source": [
    "d.get(3) # to get the value of a given key\n"
   ]
  },
  {
   "cell_type": "code",
   "execution_count": 27,
   "id": "cac8da1e",
   "metadata": {},
   "outputs": [
    {
     "data": {
      "text/plain": [
       "300"
      ]
     },
     "execution_count": 27,
     "metadata": {},
     "output_type": "execute_result"
    }
   ],
   "source": [
    "d[3]\n"
   ]
  },
  {
   "cell_type": "code",
   "execution_count": 28,
   "id": "36c117c2",
   "metadata": {},
   "outputs": [
    {
     "data": {
      "text/plain": [
       "{1: 900, 2: 900, 3: 900}"
      ]
     },
     "execution_count": 28,
     "metadata": {},
     "output_type": "execute_result"
    }
   ],
   "source": [
    "# fromkeys\n",
    "x=(1,2,3)\n",
    "y=(900)\n",
    "d=dict.fromkeys(x,y)\n",
    "d"
   ]
  },
  {
   "cell_type": "code",
   "execution_count": 29,
   "id": "618f300d",
   "metadata": {},
   "outputs": [
    {
     "data": {
      "text/plain": [
       "{1: [900], 2: [900], 3: [900]}"
      ]
     },
     "execution_count": 29,
     "metadata": {},
     "output_type": "execute_result"
    }
   ],
   "source": [
    "# fromkeys\n",
    "x=[1,2,3]\n",
    "y=[900]\n",
    "d=dict.fromkeys(x,y)\n",
    "d"
   ]
  },
  {
   "cell_type": "code",
   "execution_count": 30,
   "id": "a8dfecc4",
   "metadata": {},
   "outputs": [
    {
     "data": {
      "text/plain": [
       "{'s': 'set', 'e': 'set', 't': 'set'}"
      ]
     },
     "execution_count": 30,
     "metadata": {},
     "output_type": "execute_result"
    }
   ],
   "source": [
    "x='set'\n",
    "y='set'\n",
    "d=dict.fromkeys(x,y)\n",
    "d"
   ]
  },
  {
   "cell_type": "code",
   "execution_count": 31,
   "id": "6405038e",
   "metadata": {},
   "outputs": [
    {
     "data": {
      "text/plain": [
       "{1: [900, 121, 122], 2: [900, 121, 122], 3: [900, 121, 122]}"
      ]
     },
     "execution_count": 31,
     "metadata": {},
     "output_type": "execute_result"
    }
   ],
   "source": [
    "x=[1,2,3]\n",
    "y=[900,121,122]\n",
    "d=dict.fromkeys(x,y)\n",
    "d"
   ]
  },
  {
   "cell_type": "code",
   "execution_count": 34,
   "id": "f8531fc7",
   "metadata": {},
   "outputs": [
    {
     "name": "stdout",
     "output_type": "stream",
     "text": [
      "Help on built-in function fromkeys:\n",
      "\n",
      "fromkeys(iterable, value=None, /) method of builtins.type instance\n",
      "    Create a new dictionary with keys from iterable and values set to value.\n",
      "\n"
     ]
    }
   ],
   "source": [
    "help(d.fromkeys)"
   ]
  },
  {
   "cell_type": "code",
   "execution_count": 44,
   "id": "22dbf80f",
   "metadata": {},
   "outputs": [
    {
     "name": "stdout",
     "output_type": "stream",
     "text": [
      "default k\n",
      "None\n",
      "e\n"
     ]
    },
    {
     "data": {
      "text/plain": [
       "{1: 'a', 2: 'k', 3: 'g', 4: None, 5: 'e'}"
      ]
     },
     "execution_count": 44,
     "metadata": {},
     "output_type": "execute_result"
    }
   ],
   "source": [
    "# set dafault\n",
    "\n",
    "d={1:'a',2:'k',3:'g'}\n",
    "p=d.setdefault(2)\n",
    "print(\"default\",p)\n",
    "p1=d.setdefault(4)\n",
    "print(p1)\n",
    "p2=d.setdefault(5,'e')\n",
    "print(p2)\n",
    "d"
   ]
  },
  {
   "cell_type": "markdown",
   "id": "17766fc7",
   "metadata": {},
   "source": [
    "### set:\n",
    "- set is a unordered , unindexed collection of elements\n",
    "    - unordered : we are not sure in which order elements will appear\n",
    "    - unindexed : we can't access set elements by using index\n",
    "- set elements must be unique. Set doesnot allow duplicate values"
   ]
  },
  {
   "cell_type": "code",
   "execution_count": 46,
   "id": "1b19f1bc",
   "metadata": {},
   "outputs": [
    {
     "data": {
      "text/plain": [
       "set()"
      ]
     },
     "execution_count": 46,
     "metadata": {},
     "output_type": "execute_result"
    }
   ],
   "source": [
    "# creating a set\n",
    "s=set() # empty set\n",
    "s"
   ]
  },
  {
   "cell_type": "code",
   "execution_count": 47,
   "id": "7cc346f8",
   "metadata": {},
   "outputs": [
    {
     "data": {
      "text/plain": [
       "{12, 21, 23, 'python'}"
      ]
     },
     "execution_count": 47,
     "metadata": {},
     "output_type": "execute_result"
    }
   ],
   "source": [
    "s1={23,12,'python',21}\n",
    "s1"
   ]
  },
  {
   "cell_type": "code",
   "execution_count": 48,
   "id": "c6a837f6",
   "metadata": {
    "scrolled": true
   },
   "outputs": [
    {
     "ename": "TypeError",
     "evalue": "'set' object is not subscriptable",
     "output_type": "error",
     "traceback": [
      "\u001b[1;31m---------------------------------------------------------------------------\u001b[0m",
      "\u001b[1;31mTypeError\u001b[0m                                 Traceback (most recent call last)",
      "Cell \u001b[1;32mIn[48], line 1\u001b[0m\n\u001b[1;32m----> 1\u001b[0m s1[\u001b[38;5;241m0\u001b[39m]\n",
      "\u001b[1;31mTypeError\u001b[0m: 'set' object is not subscriptable"
     ]
    }
   ],
   "source": [
    "s1[0]"
   ]
  },
  {
   "cell_type": "code",
   "execution_count": 49,
   "id": "8e22c30a",
   "metadata": {},
   "outputs": [
    {
     "data": {
      "text/plain": [
       "{21, 31, 41, 42}"
      ]
     },
     "execution_count": 49,
     "metadata": {},
     "output_type": "execute_result"
    }
   ],
   "source": [
    "s2={21,42,31,21,42,42,41}\n",
    "s2"
   ]
  },
  {
   "cell_type": "code",
   "execution_count": 51,
   "id": "d832a66b",
   "metadata": {},
   "outputs": [
    {
     "name": "stdout",
     "output_type": "stream",
     "text": [
      "['__and__', '__class__', '__class_getitem__', '__contains__', '__delattr__', '__dir__', '__doc__', '__eq__', '__format__', '__ge__', '__getattribute__', '__getstate__', '__gt__', '__hash__', '__iand__', '__init__', '__init_subclass__', '__ior__', '__isub__', '__iter__', '__ixor__', '__le__', '__len__', '__lt__', '__ne__', '__new__', '__or__', '__rand__', '__reduce__', '__reduce_ex__', '__repr__', '__ror__', '__rsub__', '__rxor__', '__setattr__', '__sizeof__', '__str__', '__sub__', '__subclasshook__', '__xor__', 'add', 'clear', 'copy', 'difference', 'difference_update', 'discard', 'intersection', 'intersection_update', 'isdisjoint', 'issubset', 'issuperset', 'pop', 'remove', 'symmetric_difference', 'symmetric_difference_update', 'union', 'update']\n"
     ]
    }
   ],
   "source": [
    "print(dir(s2))"
   ]
  },
  {
   "cell_type": "code",
   "execution_count": 52,
   "id": "0b4b7ead",
   "metadata": {},
   "outputs": [
    {
     "data": {
      "text/plain": [
       "{21, 31, 41, 42, 'java'}"
      ]
     },
     "execution_count": 52,
     "metadata": {},
     "output_type": "execute_result"
    }
   ],
   "source": [
    "#add()\n",
    "s2.add('java')\n",
    "s2"
   ]
  },
  {
   "cell_type": "code",
   "execution_count": 53,
   "id": "8e14024e",
   "metadata": {},
   "outputs": [
    {
     "data": {
      "text/plain": [
       "{21, 31, 41, 42, 'c', 'd', 'java', 'test'}"
      ]
     },
     "execution_count": 53,
     "metadata": {},
     "output_type": "execute_result"
    }
   ],
   "source": [
    "# update()\n",
    "\n",
    "s2.update(['c','d','test'])\n",
    "s2"
   ]
  },
  {
   "cell_type": "code",
   "execution_count": 54,
   "id": "a6a0a151",
   "metadata": {},
   "outputs": [
    {
     "data": {
      "text/plain": [
       "{21, 31, 41, 42, 'c', 'd', 'test'}"
      ]
     },
     "execution_count": 54,
     "metadata": {},
     "output_type": "execute_result"
    }
   ],
   "source": [
    "s2.pop()\n",
    "s2"
   ]
  },
  {
   "cell_type": "code",
   "execution_count": 55,
   "id": "c3f1514a",
   "metadata": {},
   "outputs": [
    {
     "data": {
      "text/plain": [
       "{21, 31, 41, 42, 'c', 'd'}"
      ]
     },
     "execution_count": 55,
     "metadata": {},
     "output_type": "execute_result"
    }
   ],
   "source": [
    "s2.remove('test')\n",
    "s2\n"
   ]
  },
  {
   "cell_type": "code",
   "execution_count": 61,
   "id": "3e797af2",
   "metadata": {},
   "outputs": [
    {
     "name": "stdout",
     "output_type": "stream",
     "text": [
      "False\n",
      "True\n"
     ]
    }
   ],
   "source": [
    "# isdisjoint used to check whether both set are completely different or not\n",
    "\n",
    "p1={2,3,1,4,5}\n",
    "p2={2,4,7,8,9}\n",
    "print(p1.isdisjoint(p2))\n",
    "p3={9,8,6,0,7}\n",
    "print(p3.isdisjoint(p1))\n"
   ]
  },
  {
   "cell_type": "code",
   "execution_count": 64,
   "id": "89c7a38a",
   "metadata": {},
   "outputs": [
    {
     "data": {
      "text/plain": [
       "True"
      ]
     },
     "execution_count": 64,
     "metadata": {},
     "output_type": "execute_result"
    }
   ],
   "source": [
    "p1={1,2,3,4,5}\n",
    "p2={2,1,3,4,5,6,7,8}\n",
    "p1.issubset(p2)\n"
   ]
  },
  {
   "cell_type": "code",
   "execution_count": 65,
   "id": "20626ea8",
   "metadata": {},
   "outputs": [
    {
     "data": {
      "text/plain": [
       "True"
      ]
     },
     "execution_count": 65,
     "metadata": {},
     "output_type": "execute_result"
    }
   ],
   "source": [
    "p2.issuperset(p1)"
   ]
  },
  {
   "cell_type": "code",
   "execution_count": 67,
   "id": "614674f5",
   "metadata": {},
   "outputs": [
    {
     "data": {
      "text/plain": [
       "{1, 2, 3, 4, 5, 6, 7, 8}"
      ]
     },
     "execution_count": 67,
     "metadata": {},
     "output_type": "execute_result"
    }
   ],
   "source": [
    "p1={1,2,3,4,5}\n",
    "p2={2,4,5,6,7,8}\n",
    "p1.union(p2) # returns all values present both sets"
   ]
  },
  {
   "cell_type": "code",
   "execution_count": 72,
   "id": "ff18227f",
   "metadata": {},
   "outputs": [
    {
     "data": {
      "text/plain": [
       "{2, 4, 5}"
      ]
     },
     "execution_count": 72,
     "metadata": {},
     "output_type": "execute_result"
    }
   ],
   "source": [
    "p1.intersection(p2) # returns the common elements of both sets"
   ]
  },
  {
   "cell_type": "code",
   "execution_count": 71,
   "id": "2620cf56",
   "metadata": {},
   "outputs": [
    {
     "data": {
      "text/plain": [
       "{1, 3}"
      ]
     },
     "execution_count": 71,
     "metadata": {},
     "output_type": "execute_result"
    }
   ],
   "source": [
    "p1.difference(p2) # p1-p2 returns the elements only present in p1, but not in p2"
   ]
  },
  {
   "cell_type": "code",
   "execution_count": 70,
   "id": "1b0b0893",
   "metadata": {},
   "outputs": [
    {
     "data": {
      "text/plain": [
       "{6, 7, 8}"
      ]
     },
     "execution_count": 70,
     "metadata": {},
     "output_type": "execute_result"
    }
   ],
   "source": [
    "p2.difference(p1)"
   ]
  },
  {
   "cell_type": "markdown",
   "id": "b346caa4",
   "metadata": {},
   "source": [
    "### Keywords\n",
    "\n",
    "keyword are the reserved words which cannot be used as variable name, function name and identifiers\n",
    "\n",
    "if, True , False , elif , else"
   ]
  },
  {
   "cell_type": "markdown",
   "id": "07e01584",
   "metadata": {},
   "source": [
    "### Function\n",
    "  * function is a block of code, which is used to perform a specific task\n",
    "  * functions are 2 types\n",
    "  * 1: In-Built function\n",
    "  * 2: user defined function"
   ]
  },
  {
   "cell_type": "code",
   "execution_count": 73,
   "id": "4385d538",
   "metadata": {},
   "outputs": [
    {
     "data": {
      "text/plain": [
       "8"
      ]
     },
     "execution_count": 73,
     "metadata": {},
     "output_type": "execute_result"
    }
   ],
   "source": [
    "pow(2,3) # In-Built functions"
   ]
  },
  {
   "cell_type": "code",
   "execution_count": 74,
   "id": "54556226",
   "metadata": {},
   "outputs": [
    {
     "data": {
      "text/plain": [
       "90.8"
      ]
     },
     "execution_count": 74,
     "metadata": {},
     "output_type": "execute_result"
    }
   ],
   "source": [
    "abs(-90.8)"
   ]
  },
  {
   "cell_type": "code",
   "execution_count": 1,
   "id": "12b81ec7",
   "metadata": {},
   "outputs": [
    {
     "data": {
      "text/plain": [
       "'y'"
      ]
     },
     "execution_count": 1,
     "metadata": {},
     "output_type": "execute_result"
    }
   ],
   "source": [
    "max('python')"
   ]
  },
  {
   "cell_type": "code",
   "execution_count": 2,
   "id": "89d5b10e",
   "metadata": {},
   "outputs": [
    {
     "data": {
      "text/plain": [
       "'y'"
      ]
     },
     "execution_count": 2,
     "metadata": {},
     "output_type": "execute_result"
    }
   ],
   "source": [
    "max('python')"
   ]
  },
  {
   "cell_type": "code",
   "execution_count": 81,
   "id": "7c6b1902",
   "metadata": {},
   "outputs": [
    {
     "data": {
      "text/plain": [
       "'h'"
      ]
     },
     "execution_count": 81,
     "metadata": {},
     "output_type": "execute_result"
    }
   ],
   "source": [
    "min('pyhton')"
   ]
  },
  {
   "cell_type": "code",
   "execution_count": 82,
   "id": "dcbf9875",
   "metadata": {},
   "outputs": [
    {
     "data": {
      "text/plain": [
       "'0b1010'"
      ]
     },
     "execution_count": 82,
     "metadata": {},
     "output_type": "execute_result"
    }
   ],
   "source": [
    "bin(10)"
   ]
  },
  {
   "cell_type": "code",
   "execution_count": 83,
   "id": "085794c5",
   "metadata": {},
   "outputs": [
    {
     "ename": "TypeError",
     "evalue": "'int' object is not callable",
     "output_type": "error",
     "traceback": [
      "\u001b[1;31m---------------------------------------------------------------------------\u001b[0m",
      "\u001b[1;31mTypeError\u001b[0m                                 Traceback (most recent call last)",
      "Cell \u001b[1;32mIn[83], line 1\u001b[0m\n\u001b[1;32m----> 1\u001b[0m \u001b[38;5;28mmax\u001b[39m(\u001b[38;5;124m'\u001b[39m\u001b[38;5;124mpython\u001b[39m\u001b[38;5;124m'\u001b[39m)\n",
      "\u001b[1;31mTypeError\u001b[0m: 'int' object is not callable"
     ]
    }
   ],
   "source": [
    "max('python')"
   ]
  },
  {
   "cell_type": "markdown",
   "id": "b72df967",
   "metadata": {},
   "source": [
    "* user defined functions\n",
    "* functions that are defined by user is called user defined functions\n",
    "\n",
    "* Syntax:\n",
    "* def fucntionname():\n",
    "    * statements\n",
    "    "
   ]
  },
  {
   "cell_type": "code",
   "execution_count": 84,
   "id": "b81f7015",
   "metadata": {},
   "outputs": [
    {
     "name": "stdout",
     "output_type": "stream",
     "text": [
      "enter a value: 2\n",
      "enter another value : 56\n",
      "addition of 2 values is:  58\n"
     ]
    }
   ],
   "source": [
    "# write a funtion to perform addition of two numbers\n",
    "\n",
    "def addition():\n",
    "    a=int(input(\"enter a value: \"))\n",
    "    b=int(input(\"enter another value : \"))\n",
    "    c=a+b\n",
    "    print(\"addition of 2 values is: \",c)\n",
    "\n",
    "addition() # calling a function by using its name"
   ]
  },
  {
   "cell_type": "code",
   "execution_count": 86,
   "id": "6b8285a5",
   "metadata": {},
   "outputs": [
    {
     "name": "stdout",
     "output_type": "stream",
     "text": [
      "enter a value : 21\n",
      "enter b value : 32\n",
      "a value is :  32\n",
      "b value is :  21\n"
     ]
    }
   ],
   "source": [
    "#write a function to perform swap of two numbers\n",
    "\n",
    "def swap():\n",
    "    a=int(input(\"enter a value : \"))\n",
    "    b=int(input(\"enter b value : \"))\n",
    "    c=a\n",
    "    a=b\n",
    "    b=c\n",
    "    print(\"a value is : \",a)\n",
    "    print(\"b value is : \",b)\n",
    "    \n",
    "swap()\n",
    "    "
   ]
  },
  {
   "cell_type": "markdown",
   "id": "289581a2",
   "metadata": {},
   "source": [
    "* Based on parameters and return type functions are divided into 4 type\n",
    "    * with parameters and with return value\n",
    "    * without parameters and with return value\n",
    "    * with parameters and without return value\n",
    "    * without parameters and without return value"
   ]
  },
  {
   "cell_type": "code",
   "execution_count": 88,
   "id": "25a0a957",
   "metadata": {},
   "outputs": [
    {
     "data": {
      "text/plain": [
       "24"
      ]
     },
     "execution_count": 88,
     "metadata": {},
     "output_type": "execute_result"
    }
   ],
   "source": [
    "# with parameters and with return value\n",
    "\n",
    "def multiplication(a,b,c):\n",
    "    result = a*b*c\n",
    "    return result\n",
    "\n",
    "multiplication(2,3,4)"
   ]
  },
  {
   "cell_type": "code",
   "execution_count": 90,
   "id": "fb776597",
   "metadata": {},
   "outputs": [
    {
     "name": "stdout",
     "output_type": "stream",
     "text": [
      "enter a value : 32\n",
      "enter b value : 2\n"
     ]
    },
    {
     "data": {
      "text/plain": [
       "16.0"
      ]
     },
     "execution_count": 90,
     "metadata": {},
     "output_type": "execute_result"
    }
   ],
   "source": [
    "# without parameters and with return value\n",
    "\n",
    "def division():\n",
    "    a = int(input(\"enter a value : \"))\n",
    "    b = int(input(\"enter b value : \"))\n",
    "    return a/b\n",
    "\n",
    "division()"
   ]
  },
  {
   "cell_type": "code",
   "execution_count": 91,
   "id": "0d02b8b7",
   "metadata": {},
   "outputs": [
    {
     "data": {
      "text/plain": [
       "16"
      ]
     },
     "execution_count": 91,
     "metadata": {},
     "output_type": "execute_result"
    }
   ],
   "source": [
    "2**4 # 2 power 4"
   ]
  },
  {
   "cell_type": "code",
   "execution_count": 95,
   "id": "ac25d853",
   "metadata": {},
   "outputs": [
    {
     "name": "stdout",
     "output_type": "stream",
     "text": [
      "square of  7  is :  49\n"
     ]
    }
   ],
   "source": [
    "# with parameters and without return value\n",
    "\n",
    "def square(a):\n",
    "    result = a*a\n",
    "    print(\"square of \", a ,\" is : \",result)\n",
    "square(7)"
   ]
  },
  {
   "cell_type": "code",
   "execution_count": 96,
   "id": "97a82899",
   "metadata": {},
   "outputs": [
    {
     "name": "stdout",
     "output_type": "stream",
     "text": [
      "enter a value : 12\n",
      "enter b value : 874\n",
      "---- before swap -----\n",
      "a value is :  12\n",
      "b value is :  874\n",
      "---- after swap -----\n",
      "a value is :  874\n",
      "b value is :  12\n"
     ]
    }
   ],
   "source": [
    "#without parameters and without return value\n",
    "\n",
    "def swap():\n",
    "    a=int(input(\"enter a value : \"))\n",
    "    b=int(input(\"enter b value : \"))\n",
    "    print(\"---- before swap -----\")\n",
    "    print(\"a value is : \",a)\n",
    "    print(\"b value is : \",b)\n",
    "    c=a\n",
    "    a=b\n",
    "    b=c\n",
    "    print(\"---- after swap -----\")\n",
    "    print(\"a value is : \",a)\n",
    "    print(\"b value is : \",b)\n",
    "    \n",
    "swap()\n",
    "    "
   ]
  },
  {
   "cell_type": "code",
   "execution_count": 103,
   "id": "ab0d5e34",
   "metadata": {},
   "outputs": [
    {
     "name": "stdout",
     "output_type": "stream",
     "text": [
      "enter a number13\n",
      "a prime number\n"
     ]
    }
   ],
   "source": [
    "# write a function to check whether given number is prime or not\n",
    "\n",
    "def isPrime():\n",
    "    a=int(input(\"enter a number\"))\n",
    "    if a>1 :\n",
    "        for i in range(2,a):    \n",
    "            if a%i==0:\n",
    "                print(\"not a prime number\")\n",
    "                break\n",
    "        else :\n",
    "                print(\"a prime number\")\n",
    "                \n",
    "isPrime()"
   ]
  },
  {
   "cell_type": "code",
   "execution_count": 109,
   "id": "f1f1bf8d",
   "metadata": {},
   "outputs": [
    {
     "name": "stdout",
     "output_type": "stream",
     "text": [
      "720\n"
     ]
    }
   ],
   "source": [
    "# write  a function to find the factorial of given number\n",
    "\n",
    "def factorial(num):\n",
    "    res=1\n",
    "    for i in range(1,num+1):\n",
    "        res*=i\n",
    "    print(res)\n",
    "\n",
    "factorial(6)"
   ]
  },
  {
   "cell_type": "code",
   "execution_count": null,
   "id": "03d4fc1b",
   "metadata": {},
   "outputs": [],
   "source": []
  }
 ],
 "metadata": {
  "kernelspec": {
   "display_name": "Python 3 (ipykernel)",
   "language": "python",
   "name": "python3"
  },
  "language_info": {
   "codemirror_mode": {
    "name": "ipython",
    "version": 3
   },
   "file_extension": ".py",
   "mimetype": "text/x-python",
   "name": "python",
   "nbconvert_exporter": "python",
   "pygments_lexer": "ipython3",
   "version": "3.11.3"
  }
 },
 "nbformat": 4,
 "nbformat_minor": 5
}
