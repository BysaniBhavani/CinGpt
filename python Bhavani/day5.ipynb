{
 "cells": [
  {
   "cell_type": "markdown",
   "id": "f3d730fc",
   "metadata": {},
   "source": [
    "### Strings\n",
    "* String is a data type, string is a group of characters\n",
    "* String is enclosed with either single quotes or double quotes ('' / \"\")\n",
    "\n",
    "### Creating string"
   ]
  },
  {
   "cell_type": "code",
   "execution_count": 1,
   "id": "c4738f29",
   "metadata": {},
   "outputs": [
    {
     "name": "stdout",
     "output_type": "stream",
     "text": [
      "Lavanya\n",
      "<class 'str'>\n"
     ]
    }
   ],
   "source": [
    "#creating strings\n",
    "\n",
    "name = \"Lavanya\"\n",
    "print(name)\n",
    "print(type(name))"
   ]
  },
  {
   "cell_type": "code",
   "execution_count": 2,
   "id": "938e9166",
   "metadata": {},
   "outputs": [
    {
     "name": "stdout",
     "output_type": "stream",
     "text": [
      "csc\n",
      "<class 'str'>\n"
     ]
    }
   ],
   "source": [
    "dept = 'csc'\n",
    "print(dept)\n",
    "print(type(dept))"
   ]
  },
  {
   "cell_type": "code",
   "execution_count": 7,
   "id": "2498919b",
   "metadata": {},
   "outputs": [
    {
     "name": "stdout",
     "output_type": "stream",
     "text": [
      "L\n",
      "a\n",
      "a\n",
      "y\n",
      "aynavaL\n"
     ]
    }
   ],
   "source": [
    "# Accessing chracters of a string\n",
    "\n",
    "# forward index 0 , 1 , 2 , 3 ......\n",
    "\n",
    "# backward index -1 , -2 , -3 ......\n",
    "\n",
    "print(name[0]) # first character of the dept string\n",
    "print(name[1]) # second character of the string\n",
    "\n",
    "print(name[-1]) #last character of the dept string\n",
    "print(name[-2]) #last but 1 character of string"
   ]
  },
  {
   "cell_type": "code",
   "execution_count": null,
   "id": "3719841f",
   "metadata": {},
   "outputs": [],
   "source": [
    "# reverse of a string\n",
    "\n",
    "print(name[::-1])"
   ]
  },
  {
   "cell_type": "code",
   "execution_count": 8,
   "id": "c5b35d86",
   "metadata": {},
   "outputs": [
    {
     "name": "stdout",
     "output_type": "stream",
     "text": [
      "7\n"
     ]
    }
   ],
   "source": [
    "# Length of a string\n",
    "\n",
    "print(len(name))"
   ]
  },
  {
   "cell_type": "code",
   "execution_count": 10,
   "id": "5ac9ee12",
   "metadata": {},
   "outputs": [
    {
     "name": "stdout",
     "output_type": "stream",
     "text": [
      "['L', 'a', 'a', 'a', 'n', 'v', 'y']\n",
      "['y', 'v', 'n', 'a', 'a', 'a', 'L']\n"
     ]
    }
   ],
   "source": [
    "# sorting\n",
    "\n",
    "print(sorted(name)) # ascending order\n",
    "print(sorted(name,reverse=True)) # descending order"
   ]
  },
  {
   "cell_type": "code",
   "execution_count": 11,
   "id": "7c485f40",
   "metadata": {},
   "outputs": [
    {
     "name": "stdout",
     "output_type": "stream",
     "text": [
      "y\n"
     ]
    }
   ],
   "source": [
    "# max min \n",
    "\n",
    "print(max(name))"
   ]
  },
  {
   "cell_type": "code",
   "execution_count": 12,
   "id": "0fc4aa49",
   "metadata": {},
   "outputs": [
    {
     "name": "stdout",
     "output_type": "stream",
     "text": [
      "L\n"
     ]
    }
   ],
   "source": [
    "print(min(name))"
   ]
  },
  {
   "cell_type": "code",
   "execution_count": 19,
   "id": "ea51a836",
   "metadata": {},
   "outputs": [
    {
     "name": "stdout",
     "output_type": "stream",
     "text": [
      "vanya\n",
      "Lvna\n",
      "aay\n",
      "any\n"
     ]
    }
   ],
   "source": [
    "# slicing [start : stop : step]\n",
    "\n",
    "print(name[2::]) # charaters from 2 index slice 0,1\n",
    "print(name[::2]) # alternate character from 0 index\n",
    "print(name[1::2]) # alternate character form 1 index\n",
    "\n",
    "# Lavanya \n",
    "\n",
    "print(name[3:-1:])"
   ]
  },
  {
   "cell_type": "code",
   "execution_count": 25,
   "id": "d8f89b32",
   "metadata": {},
   "outputs": [
    {
     "name": "stdout",
     "output_type": "stream",
     "text": [
      "L\n",
      "a\n",
      "v\n",
      "a\n",
      "n\n",
      "y\n",
      "a\n"
     ]
    }
   ],
   "source": [
    "# iterating over a string\n",
    "\n",
    "for ch in name:\n",
    "    print(ch)"
   ]
  },
  {
   "cell_type": "code",
   "execution_count": 26,
   "id": "08aea405",
   "metadata": {},
   "outputs": [
    {
     "name": "stdout",
     "output_type": "stream",
     "text": [
      "L a v a n y a "
     ]
    }
   ],
   "source": [
    "for ch in name:\n",
    "    print(ch,end=\" \")"
   ]
  },
  {
   "cell_type": "code",
   "execution_count": 29,
   "id": "7aed4d28",
   "metadata": {},
   "outputs": [
    {
     "name": "stdout",
     "output_type": "stream",
     "text": [
      "L\n",
      "a\n",
      "v\n",
      "a\n",
      "n\n",
      "y\n",
      "a\n"
     ]
    }
   ],
   "source": [
    "n=len(name)\n",
    "for i in range(0,n) :\n",
    "    print(name[i])\n"
   ]
  },
  {
   "cell_type": "code",
   "execution_count": 35,
   "id": "9d95ef9a",
   "metadata": {},
   "outputs": [
    {
     "name": "stdout",
     "output_type": "stream",
     "text": [
      "enter a string : tet\n",
      "given string is :  tet\n",
      "Given string is a palindrome \n"
     ]
    }
   ],
   "source": [
    "# write a program o check whether given string is palindrome or not\n",
    "\n",
    "str = input(\"enter a string : \")\n",
    "print(\"given string is : \",str)\n",
    "strReverse = str[::-1]\n",
    "if(str==strReverse) :\n",
    "    print(\"Given string is a palindrome \")\n",
    "else: \n",
    "    print(\"Given string is not palindrome\")"
   ]
  },
  {
   "cell_type": "code",
   "execution_count": 37,
   "id": "1ed9f072",
   "metadata": {},
   "outputs": [
    {
     "name": "stdout",
     "output_type": "stream",
     "text": [
      "['__add__', '__class__', '__contains__', '__delattr__', '__dir__', '__doc__', '__eq__', '__format__', '__ge__', '__getattribute__', '__getitem__', '__getnewargs__', '__getstate__', '__gt__', '__hash__', '__init__', '__init_subclass__', '__iter__', '__le__', '__len__', '__lt__', '__mod__', '__mul__', '__ne__', '__new__', '__reduce__', '__reduce_ex__', '__repr__', '__rmod__', '__rmul__', '__setattr__', '__sizeof__', '__str__', '__subclasshook__', 'capitalize', 'casefold', 'center', 'count', 'encode', 'endswith', 'expandtabs', 'find', 'format', 'format_map', 'index', 'isalnum', 'isalpha', 'isascii', 'isdecimal', 'isdigit', 'isidentifier', 'islower', 'isnumeric', 'isprintable', 'isspace', 'istitle', 'isupper', 'join', 'ljust', 'lower', 'lstrip', 'maketrans', 'partition', 'removeprefix', 'removesuffix', 'replace', 'rfind', 'rindex', 'rjust', 'rpartition', 'rsplit', 'rstrip', 'split', 'splitlines', 'startswith', 'strip', 'swapcase', 'title', 'translate', 'upper', 'zfill']\n"
     ]
    }
   ],
   "source": [
    "### string Directory\n",
    "print(dir(name))"
   ]
  },
  {
   "cell_type": "code",
   "execution_count": 38,
   "id": "c375d1ec",
   "metadata": {},
   "outputs": [
    {
     "data": {
      "text/plain": [
       "'Hello everyone'"
      ]
     },
     "execution_count": 38,
     "metadata": {},
     "output_type": "execute_result"
    }
   ],
   "source": [
    "st = \"hello everyone\" # only 1st character of the string is captilized\n",
    "st.capitalize()"
   ]
  },
  {
   "cell_type": "code",
   "execution_count": 39,
   "id": "02fc4f0f",
   "metadata": {},
   "outputs": [
    {
     "data": {
      "text/plain": [
       "'Hello Everyone'"
      ]
     },
     "execution_count": 39,
     "metadata": {},
     "output_type": "execute_result"
    }
   ],
   "source": [
    "st.title() # first letter of each word is captilized"
   ]
  },
  {
   "cell_type": "code",
   "execution_count": 40,
   "id": "a8d1cd04",
   "metadata": {},
   "outputs": [
    {
     "data": {
      "text/plain": [
       "'HELLO EVERYONE'"
      ]
     },
     "execution_count": 40,
     "metadata": {},
     "output_type": "execute_result"
    }
   ],
   "source": [
    "st.upper()"
   ]
  },
  {
   "cell_type": "code",
   "execution_count": 41,
   "id": "56e9e3ca",
   "metadata": {},
   "outputs": [
    {
     "data": {
      "text/plain": [
       "'hello everyone'"
      ]
     },
     "execution_count": 41,
     "metadata": {},
     "output_type": "execute_result"
    }
   ],
   "source": [
    "st.lower()"
   ]
  },
  {
   "cell_type": "code",
   "execution_count": 42,
   "id": "822d9fa9",
   "metadata": {},
   "outputs": [
    {
     "data": {
      "text/plain": [
       "['hello', 'everyone']"
      ]
     },
     "execution_count": 42,
     "metadata": {},
     "output_type": "execute_result"
    }
   ],
   "source": [
    "st.split() # default split is with space"
   ]
  },
  {
   "cell_type": "code",
   "execution_count": 44,
   "id": "26cce144",
   "metadata": {},
   "outputs": [
    {
     "data": {
      "text/plain": [
       "['test', 'split']"
      ]
     },
     "execution_count": 44,
     "metadata": {},
     "output_type": "execute_result"
    }
   ],
   "source": [
    "st=\"test@split\" # split with @\n",
    "st.split('@')"
   ]
  },
  {
   "cell_type": "code",
   "execution_count": 45,
   "id": "77b9584c",
   "metadata": {},
   "outputs": [
    {
     "data": {
      "text/plain": [
       "'Java java'"
      ]
     },
     "execution_count": 45,
     "metadata": {},
     "output_type": "execute_result"
    }
   ],
   "source": [
    "s='java' #replace\n",
    "s.replace('j','Java j')"
   ]
  },
  {
   "cell_type": "code",
   "execution_count": 48,
   "id": "5e11e5a4",
   "metadata": {},
   "outputs": [
    {
     "data": {
      "text/plain": [
       "'pyhton language'"
      ]
     },
     "execution_count": 48,
     "metadata": {},
     "output_type": "execute_result"
    }
   ],
   "source": [
    "s1=\"pyhton \"\n",
    "s2=\"language\"\n",
    "s3=s1+s2\n",
    "s3"
   ]
  },
  {
   "cell_type": "code",
   "execution_count": 49,
   "id": "0e17fecf",
   "metadata": {},
   "outputs": [
    {
     "data": {
      "text/plain": [
       "'hellphellphellp'"
      ]
     },
     "execution_count": 49,
     "metadata": {},
     "output_type": "execute_result"
    }
   ],
   "source": [
    "\"hello\"*3"
   ]
  },
  {
   "cell_type": "code",
   "execution_count": 50,
   "id": "871acea0",
   "metadata": {},
   "outputs": [
    {
     "data": {
      "text/plain": [
       "7"
      ]
     },
     "execution_count": 50,
     "metadata": {},
     "output_type": "execute_result"
    }
   ],
   "source": [
    "len(\"pyth on\") # space is also a character\n"
   ]
  },
  {
   "cell_type": "code",
   "execution_count": 51,
   "id": "96d7353f",
   "metadata": {},
   "outputs": [
    {
     "data": {
      "text/plain": [
       "'welcome to the world'"
      ]
     },
     "execution_count": 51,
     "metadata": {},
     "output_type": "execute_result"
    }
   ],
   "source": [
    "s=\" welcome to the world! \" # removes spaces from left and right side spaces in the sring\n",
    "s.strip()\n"
   ]
  },
  {
   "cell_type": "code",
   "execution_count": 52,
   "id": "9eebf552",
   "metadata": {},
   "outputs": [
    {
     "data": {
      "text/plain": [
       "'welcome to the world '"
      ]
     },
     "execution_count": 52,
     "metadata": {},
     "output_type": "execute_result"
    }
   ],
   "source": [
    "s.lstrip() #left strip"
   ]
  },
  {
   "cell_type": "code",
   "execution_count": 54,
   "id": "820f32d0",
   "metadata": {},
   "outputs": [
    {
     "data": {
      "text/plain": [
       "' welcome to the world'"
      ]
     },
     "execution_count": 54,
     "metadata": {},
     "output_type": "execute_result"
    }
   ],
   "source": [
    "s.rstrip() #right strip"
   ]
  },
  {
   "cell_type": "code",
   "execution_count": 55,
   "id": "67896ba6",
   "metadata": {},
   "outputs": [
    {
     "data": {
      "text/plain": [
       "9"
      ]
     },
     "execution_count": 55,
     "metadata": {},
     "output_type": "execute_result"
    }
   ],
   "source": [
    "s.find(\"to\") # returns the lowest index of the character or substring is found"
   ]
  },
  {
   "cell_type": "code",
   "execution_count": 57,
   "id": "57ec78f0",
   "metadata": {},
   "outputs": [
    {
     "data": {
      "text/plain": [
       "-1"
      ]
     },
     "execution_count": 57,
     "metadata": {},
     "output_type": "execute_result"
    }
   ],
   "source": [
    "s.find(\"test\") # if character or string is not present returns -1"
   ]
  },
  {
   "cell_type": "code",
   "execution_count": 56,
   "id": "c33d2fa1",
   "metadata": {},
   "outputs": [
    {
     "name": "stdout",
     "output_type": "stream",
     "text": [
      "Help on built-in function find:\n",
      "\n",
      "find(...) method of builtins.str instance\n",
      "    S.find(sub[, start[, end]]) -> int\n",
      "    \n",
      "    Return the lowest index in S where substring sub is found,\n",
      "    such that sub is contained within S[start:end].  Optional\n",
      "    arguments start and end are interpreted as in slice notation.\n",
      "    \n",
      "    Return -1 on failure.\n",
      "\n"
     ]
    }
   ],
   "source": [
    "help(s.find)"
   ]
  },
  {
   "cell_type": "code",
   "execution_count": 58,
   "id": "0b92bd94",
   "metadata": {},
   "outputs": [
    {
     "data": {
      "text/plain": [
       "2"
      ]
     },
     "execution_count": 58,
     "metadata": {},
     "output_type": "execute_result"
    }
   ],
   "source": [
    "s=\"python programming python\"\n",
    "s.count('python')"
   ]
  },
  {
   "cell_type": "code",
   "execution_count": 77,
   "id": "127ad753",
   "metadata": {},
   "outputs": [
    {
     "name": "stdout",
     "output_type": "stream",
     "text": [
      "count of given substring is :  2\n"
     ]
    }
   ],
   "source": [
    "# write a program to check count of the substring\n",
    "s=\"python programming python\"\n",
    "c=s.count('python')\n",
    "print(\"count of given substring is : \",c)"
   ]
  },
  {
   "cell_type": "code",
   "execution_count": 60,
   "id": "1424e765",
   "metadata": {},
   "outputs": [
    {
     "data": {
      "text/plain": [
       "2"
      ]
     },
     "execution_count": 60,
     "metadata": {},
     "output_type": "execute_result"
    }
   ],
   "source": [
    "s=\"python programming python\"\n",
    "s.index('t') # returns lowest index value if character or substring present "
   ]
  },
  {
   "cell_type": "code",
   "execution_count": 66,
   "id": "5d585db8",
   "metadata": {},
   "outputs": [
    {
     "ename": "ValueError",
     "evalue": "substring not found",
     "output_type": "error",
     "traceback": [
      "\u001b[1;31m---------------------------------------------------------------------------\u001b[0m",
      "\u001b[1;31mValueError\u001b[0m                                Traceback (most recent call last)",
      "Cell \u001b[1;32mIn[66], line 2\u001b[0m\n\u001b[0;32m      1\u001b[0m s\u001b[38;5;241m=\u001b[39m\u001b[38;5;124m\"\u001b[39m\u001b[38;5;124mpython programming python\u001b[39m\u001b[38;5;124m\"\u001b[39m \u001b[38;5;66;03m# returns value error if the given string or character is not present \u001b[39;00m\n\u001b[1;32m----> 2\u001b[0m s\u001b[38;5;241m.\u001b[39mindex(\u001b[38;5;124m'\u001b[39m\u001b[38;5;124mzip\u001b[39m\u001b[38;5;124m'\u001b[39m)\n",
      "\u001b[1;31mValueError\u001b[0m: substring not found"
     ]
    }
   ],
   "source": [
    "s=\"python programming python\" # returns value error if the given substring or character is not present \n",
    "s.index('zip')       # find returns -1 index returns value error (differen)"
   ]
  },
  {
   "cell_type": "code",
   "execution_count": 61,
   "id": "44be225f",
   "metadata": {},
   "outputs": [
    {
     "data": {
      "text/plain": [
       "True"
      ]
     },
     "execution_count": 61,
     "metadata": {},
     "output_type": "execute_result"
    }
   ],
   "source": [
    "s=\"pythonprogrammingpython\" # returns true if string contains only alphabets\n",
    "s.isalpha()"
   ]
  },
  {
   "cell_type": "code",
   "execution_count": 62,
   "id": "747157dd",
   "metadata": {},
   "outputs": [
    {
     "data": {
      "text/plain": [
       "False"
      ]
     },
     "execution_count": 62,
     "metadata": {},
     "output_type": "execute_result"
    }
   ],
   "source": [
    "s=\"python programming python\"\n",
    "s.isalpha()"
   ]
  },
  {
   "cell_type": "code",
   "execution_count": 63,
   "id": "8f146816",
   "metadata": {},
   "outputs": [
    {
     "data": {
      "text/plain": [
       "True"
      ]
     },
     "execution_count": 63,
     "metadata": {},
     "output_type": "execute_result"
    }
   ],
   "source": [
    "s=\"1213234\"\n",
    "s.isdigit() # returns true if string contains only digits"
   ]
  },
  {
   "cell_type": "code",
   "execution_count": 64,
   "id": "e0d4a3ff",
   "metadata": {},
   "outputs": [
    {
     "data": {
      "text/plain": [
       "False"
      ]
     },
     "execution_count": 64,
     "metadata": {},
     "output_type": "execute_result"
    }
   ],
   "source": [
    "s=\"ffd1233\"\n",
    "s.isdigit()"
   ]
  },
  {
   "cell_type": "code",
   "execution_count": 69,
   "id": "c37f5ba2",
   "metadata": {},
   "outputs": [
    {
     "data": {
      "text/plain": [
       "False"
      ]
     },
     "execution_count": 69,
     "metadata": {},
     "output_type": "execute_result"
    }
   ],
   "source": [
    "s='python'\n",
    "s.isupper() #returns true if the given string is in uppercase"
   ]
  },
  {
   "cell_type": "code",
   "execution_count": 70,
   "id": "9cf106f8",
   "metadata": {},
   "outputs": [
    {
     "data": {
      "text/plain": [
       "True"
      ]
     },
     "execution_count": 70,
     "metadata": {},
     "output_type": "execute_result"
    }
   ],
   "source": [
    "#s=\"PYTHON\"\n",
    "s.islower() #returns true if the given string is in lowercase otherwise returns false"
   ]
  },
  {
   "cell_type": "code",
   "execution_count": 74,
   "id": "2415fe7c",
   "metadata": {},
   "outputs": [
    {
     "data": {
      "text/plain": [
       "True"
      ]
     },
     "execution_count": 74,
     "metadata": {},
     "output_type": "execute_result"
    }
   ],
   "source": [
    "#isalnum\n",
    "s=\"ewr324\"\n",
    "s.isalnum() #returns true if the given string contains both alphabets and numbers\n",
    "# s= al@asdfsdf s.isalnum() #returns false"
   ]
  },
  {
   "cell_type": "code",
   "execution_count": 76,
   "id": "0fa2f01b",
   "metadata": {},
   "outputs": [
    {
     "data": {
      "text/plain": [
       "'WELCOME to the @'"
      ]
     },
     "execution_count": 76,
     "metadata": {},
     "output_type": "execute_result"
    }
   ],
   "source": [
    "s=\"welcome TO THE @\"\n",
    "s.swapcase() # upper -> lower Lower -> upper in the given string"
   ]
  },
  {
   "cell_type": "code",
   "execution_count": 80,
   "id": "62976563",
   "metadata": {},
   "outputs": [
    {
     "name": "stdout",
     "output_type": "stream",
     "text": [
      "2\n",
      "2\n",
      "3\n"
     ]
    }
   ],
   "source": [
    "#character count\n",
    "#{/pabcabc o/p a=2 b=2 c=2}\n",
    "s=\"abcabcc\"\n",
    "s1=\"\"\n",
    "for i in s:\n",
    "    if i not in s1:\n",
    "        print(s.count(i))\n",
    "        s1+=i\n",
    "        "
   ]
  },
  {
   "cell_type": "code",
   "execution_count": 82,
   "id": "38732e8f",
   "metadata": {},
   "outputs": [
    {
     "name": "stdout",
     "output_type": "stream",
     "text": [
      "a:2\n",
      "b:2\n",
      "c:3\n"
     ]
    }
   ],
   "source": [
    "#character count\n",
    "#{/pabcabc o/p a=2 b=2 c=2}\n",
    "s=\"abcabcc\"\n",
    "s1=\"\"\n",
    "for i in s:\n",
    "    if i not in s1:\n",
    "        print(\"{}:{}\".format(i,s.count(i),end=\" \"))\n",
    "        s1+=i\n",
    "        "
   ]
  },
  {
   "cell_type": "code",
   "execution_count": null,
   "id": "51ba4f29",
   "metadata": {},
   "outputs": [],
   "source": []
  }
 ],
 "metadata": {
  "kernelspec": {
   "display_name": "Python 3 (ipykernel)",
   "language": "python",
   "name": "python3"
  },
  "language_info": {
   "codemirror_mode": {
    "name": "ipython",
    "version": 3
   },
   "file_extension": ".py",
   "mimetype": "text/x-python",
   "name": "python",
   "nbconvert_exporter": "python",
   "pygments_lexer": "ipython3",
   "version": "3.11.3"
  }
 },
 "nbformat": 4,
 "nbformat_minor": 5
}
