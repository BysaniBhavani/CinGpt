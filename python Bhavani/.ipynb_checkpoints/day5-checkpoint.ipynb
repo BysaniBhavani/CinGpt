{
 "cells": [
  {
   "cell_type": "markdown",
   "id": "caaff2b7",
   "metadata": {},
   "source": [
    "### Strings\n",
    "* String is a data type, string is a group of characters\n",
    "* String is enclosed with either single quotes or double quotes ('' / \"\")\n",
    "\n",
    "### Creating string"
   ]
  },
  {
   "cell_type": "code",
   "execution_count": 1,
   "id": "9a293707",
   "metadata": {},
   "outputs": [
    {
     "name": "stdout",
     "output_type": "stream",
     "text": [
      "Lavanya\n",
      "<class 'str'>\n"
     ]
    }
   ],
   "source": [
    "#creating strings\n",
    "\n",
    "name = \"Lavanya\"\n",
    "print(name)\n",
    "print(type(name))"
   ]
  },
  {
   "cell_type": "code",
   "execution_count": 2,
   "id": "90911ac9",
   "metadata": {},
   "outputs": [
    {
     "name": "stdout",
     "output_type": "stream",
     "text": [
      "csc\n",
      "<class 'str'>\n"
     ]
    }
   ],
   "source": [
    "dept = 'csc'\n",
    "print(dept)\n",
    "print(type(dept))"
   ]
  },
  {
   "cell_type": "code",
   "execution_count": 7,
   "id": "53c6a4ef",
   "metadata": {},
   "outputs": [
    {
     "name": "stdout",
     "output_type": "stream",
     "text": [
      "L\n",
      "a\n",
      "a\n",
      "y\n",
      "aynavaL\n"
     ]
    }
   ],
   "source": [
    "# Accessing chracters of a string\n",
    "\n",
    "# forward index 0 , 1 , 2 , 3 ......\n",
    "\n",
    "# backward index -1 , -2 , -3 ......\n",
    "\n",
    "print(name[0]) # first character of the dept string\n",
    "print(name[1]) # second character of the string\n",
    "\n",
    "print(name[-1]) #last character of the dept string\n",
    "print(name[-2]) #last but 1 character of string"
   ]
  },
  {
   "cell_type": "code",
   "execution_count": null,
   "id": "3708f07e",
   "metadata": {},
   "outputs": [],
   "source": [
    "# reverse of a string\n",
    "\n",
    "print(name[::-1])"
   ]
  },
  {
   "cell_type": "code",
   "execution_count": 8,
   "id": "84edeecf",
   "metadata": {},
   "outputs": [
    {
     "name": "stdout",
     "output_type": "stream",
     "text": [
      "7\n"
     ]
    }
   ],
   "source": [
    "# Length of a string\n",
    "\n",
    "print(len(name))"
   ]
  },
  {
   "cell_type": "code",
   "execution_count": 10,
   "id": "dd4cf764",
   "metadata": {},
   "outputs": [
    {
     "name": "stdout",
     "output_type": "stream",
     "text": [
      "['L', 'a', 'a', 'a', 'n', 'v', 'y']\n",
      "['y', 'v', 'n', 'a', 'a', 'a', 'L']\n"
     ]
    }
   ],
   "source": [
    "# sorting\n",
    "\n",
    "print(sorted(name)) # ascending order\n",
    "print(sorted(name,reverse=True)) # descending order"
   ]
  },
  {
   "cell_type": "code",
   "execution_count": 11,
   "id": "17d23de1",
   "metadata": {},
   "outputs": [
    {
     "name": "stdout",
     "output_type": "stream",
     "text": [
      "y\n"
     ]
    }
   ],
   "source": [
    "# max min \n",
    "\n",
    "print(max(name))"
   ]
  },
  {
   "cell_type": "code",
   "execution_count": 12,
   "id": "09127286",
   "metadata": {},
   "outputs": [
    {
     "name": "stdout",
     "output_type": "stream",
     "text": [
      "L\n"
     ]
    }
   ],
   "source": [
    "print(min(name))"
   ]
  },
  {
   "cell_type": "code",
   "execution_count": 19,
   "id": "7b77abe4",
   "metadata": {},
   "outputs": [
    {
     "name": "stdout",
     "output_type": "stream",
     "text": [
      "vanya\n",
      "Lvna\n",
      "aay\n",
      "any\n"
     ]
    }
   ],
   "source": [
    "# slicing [start : stop : step]\n",
    "\n",
    "print(name[2::]) # charaters from 2 index slice 0,1\n",
    "print(name[::2]) # alternate character from 0 index\n",
    "print(name[1::2]) # alternate character form 1 index\n",
    "\n",
    "# Lavanya \n",
    "\n",
    "print(name[3:-1:])"
   ]
  },
  {
   "cell_type": "code",
   "execution_count": 25,
   "id": "28cad896",
   "metadata": {},
   "outputs": [
    {
     "name": "stdout",
     "output_type": "stream",
     "text": [
      "L\n",
      "a\n",
      "v\n",
      "a\n",
      "n\n",
      "y\n",
      "a\n"
     ]
    }
   ],
   "source": [
    "# iterating over a string\n",
    "\n",
    "for ch in name:\n",
    "    print(ch)"
   ]
  },
  {
   "cell_type": "code",
   "execution_count": 26,
   "id": "17c3ce59",
   "metadata": {},
   "outputs": [
    {
     "name": "stdout",
     "output_type": "stream",
     "text": [
      "L a v a n y a "
     ]
    }
   ],
   "source": [
    "for ch in name:\n",
    "    print(ch,end=\" \")"
   ]
  },
  {
   "cell_type": "code",
   "execution_count": 29,
   "id": "d6a25c74",
   "metadata": {},
   "outputs": [
    {
     "name": "stdout",
     "output_type": "stream",
     "text": [
      "L\n",
      "a\n",
      "v\n",
      "a\n",
      "n\n",
      "y\n",
      "a\n"
     ]
    }
   ],
   "source": [
    "n=len(name)\n",
    "for i in range(0,n) :\n",
    "    print(name[i])\n"
   ]
  },
  {
   "cell_type": "code",
   "execution_count": 35,
   "id": "cae8c5f7",
   "metadata": {},
   "outputs": [
    {
     "name": "stdout",
     "output_type": "stream",
     "text": [
      "enter a string : tet\n",
      "given string is :  tet\n",
      "Given string is a palindrome \n"
     ]
    }
   ],
   "source": [
    "# write a program o check whether given string is palindrome or not\n",
    "\n",
    "str = input(\"enter a string : \")\n",
    "print(\"given string is : \",str)\n",
    "strReverse = str[::-1]\n",
    "if(str==strReverse) :\n",
    "    print(\"Given string is a palindrome \")\n",
    "else: \n",
    "    print(\"Given string is not palindrome\")"
   ]
  },
  {
   "cell_type": "code",
   "execution_count": 37,
   "id": "b0b27ec1",
   "metadata": {
    "collapsed": true
   },
   "outputs": [
    {
     "name": "stdout",
     "output_type": "stream",
     "text": [
      "['__add__', '__class__', '__contains__', '__delattr__', '__dir__', '__doc__', '__eq__', '__format__', '__ge__', '__getattribute__', '__getitem__', '__getnewargs__', '__getstate__', '__gt__', '__hash__', '__init__', '__init_subclass__', '__iter__', '__le__', '__len__', '__lt__', '__mod__', '__mul__', '__ne__', '__new__', '__reduce__', '__reduce_ex__', '__repr__', '__rmod__', '__rmul__', '__setattr__', '__sizeof__', '__str__', '__subclasshook__', 'capitalize', 'casefold', 'center', 'count', 'encode', 'endswith', 'expandtabs', 'find', 'format', 'format_map', 'index', 'isalnum', 'isalpha', 'isascii', 'isdecimal', 'isdigit', 'isidentifier', 'islower', 'isnumeric', 'isprintable', 'isspace', 'istitle', 'isupper', 'join', 'ljust', 'lower', 'lstrip', 'maketrans', 'partition', 'removeprefix', 'removesuffix', 'replace', 'rfind', 'rindex', 'rjust', 'rpartition', 'rsplit', 'rstrip', 'split', 'splitlines', 'startswith', 'strip', 'swapcase', 'title', 'translate', 'upper', 'zfill']\n"
     ]
    }
   ],
   "source": [
    "### string Directory\n",
    "print(dir(name))"
   ]
  },
  {
   "cell_type": "code",
   "execution_count": 38,
   "id": "e9b2b2e1",
   "metadata": {},
   "outputs": [
    {
     "data": {
      "text/plain": [
       "'Hello everyone'"
      ]
     },
     "execution_count": 38,
     "metadata": {},
     "output_type": "execute_result"
    }
   ],
   "source": [
    "st = \"hello everyone\" # only 1st character of the string is captilized\n",
    "st.capitalize()"
   ]
  },
  {
   "cell_type": "code",
   "execution_count": 39,
   "id": "e390eead",
   "metadata": {},
   "outputs": [
    {
     "data": {
      "text/plain": [
       "'Hello Everyone'"
      ]
     },
     "execution_count": 39,
     "metadata": {},
     "output_type": "execute_result"
    }
   ],
   "source": [
    "st.title() # first letter of each word is captilized"
   ]
  },
  {
   "cell_type": "code",
   "execution_count": 40,
   "id": "bf6c62da",
   "metadata": {},
   "outputs": [
    {
     "data": {
      "text/plain": [
       "'HELLO EVERYONE'"
      ]
     },
     "execution_count": 40,
     "metadata": {},
     "output_type": "execute_result"
    }
   ],
   "source": [
    "st.upper()"
   ]
  },
  {
   "cell_type": "code",
   "execution_count": 41,
   "id": "a9f53556",
   "metadata": {},
   "outputs": [
    {
     "data": {
      "text/plain": [
       "'hello everyone'"
      ]
     },
     "execution_count": 41,
     "metadata": {},
     "output_type": "execute_result"
    }
   ],
   "source": [
    "st.lower()"
   ]
  },
  {
   "cell_type": "code",
   "execution_count": 42,
   "id": "350aeb08",
   "metadata": {},
   "outputs": [
    {
     "data": {
      "text/plain": [
       "['hello', 'everyone']"
      ]
     },
     "execution_count": 42,
     "metadata": {},
     "output_type": "execute_result"
    }
   ],
   "source": [
    "st.split() # default split is with space"
   ]
  },
  {
   "cell_type": "code",
   "execution_count": 44,
   "id": "a78ac86b",
   "metadata": {},
   "outputs": [
    {
     "data": {
      "text/plain": [
       "['test', 'split']"
      ]
     },
     "execution_count": 44,
     "metadata": {},
     "output_type": "execute_result"
    }
   ],
   "source": [
    "st=\"test@split\" # split with @\n",
    "st.split('@')"
   ]
  },
  {
   "cell_type": "code",
   "execution_count": 45,
   "id": "417dcbee",
   "metadata": {},
   "outputs": [
    {
     "data": {
      "text/plain": [
       "'Java java'"
      ]
     },
     "execution_count": 45,
     "metadata": {},
     "output_type": "execute_result"
    }
   ],
   "source": [
    "s='java' #replace\n",
    "s.replace('j','Java j')"
   ]
  },
  {
   "cell_type": "code",
   "execution_count": 48,
   "id": "c9a32188",
   "metadata": {},
   "outputs": [
    {
     "data": {
      "text/plain": [
       "'pyhton language'"
      ]
     },
     "execution_count": 48,
     "metadata": {},
     "output_type": "execute_result"
    }
   ],
   "source": [
    "s1=\"pyhton \"\n",
    "s2=\"language\"\n",
    "s3=s1+s2\n",
    "s3"
   ]
  },
  {
   "cell_type": "code",
   "execution_count": 49,
   "id": "f97ca930",
   "metadata": {},
   "outputs": [
    {
     "data": {
      "text/plain": [
       "'hellphellphellp'"
      ]
     },
     "execution_count": 49,
     "metadata": {},
     "output_type": "execute_result"
    }
   ],
   "source": [
    "\"hello\"*3"
   ]
  },
  {
   "cell_type": "code",
   "execution_count": 50,
   "id": "543f8bbd",
   "metadata": {},
   "outputs": [
    {
     "data": {
      "text/plain": [
       "7"
      ]
     },
     "execution_count": 50,
     "metadata": {},
     "output_type": "execute_result"
    }
   ],
   "source": [
    "len(\"pyth on\") # space is also a character\n"
   ]
  },
  {
   "cell_type": "code",
   "execution_count": 51,
   "id": "53bfe8c5",
   "metadata": {},
   "outputs": [
    {
     "data": {
      "text/plain": [
       "'welcome to the world'"
      ]
     },
     "execution_count": 51,
     "metadata": {},
     "output_type": "execute_result"
    }
   ],
   "source": [
    "s=\" welcome to the world! \" # removes spaces from left and right side spaces in the sring\n",
    "s.strip()\n"
   ]
  },
  {
   "cell_type": "code",
   "execution_count": 52,
   "id": "61de9332",
   "metadata": {},
   "outputs": [
    {
     "data": {
      "text/plain": [
       "'welcome to the world '"
      ]
     },
     "execution_count": 52,
     "metadata": {},
     "output_type": "execute_result"
    }
   ],
   "source": [
    "s.lstrip() #left strip"
   ]
  },
  {
   "cell_type": "code",
   "execution_count": 54,
   "id": "84fd234f",
   "metadata": {},
   "outputs": [
    {
     "data": {
      "text/plain": [
       "' welcome to the world'"
      ]
     },
     "execution_count": 54,
     "metadata": {},
     "output_type": "execute_result"
    }
   ],
   "source": [
    "s.rstrip() #right strip"
   ]
  },
  {
   "cell_type": "code",
   "execution_count": 55,
   "id": "50ae63c9",
   "metadata": {},
   "outputs": [
    {
     "data": {
      "text/plain": [
       "9"
      ]
     },
     "execution_count": 55,
     "metadata": {},
     "output_type": "execute_result"
    }
   ],
   "source": [
    "s.find(\"to\") # returns the lowest index of the character or string in the given string"
   ]
  },
  {
   "cell_type": "code",
   "execution_count": null,
   "id": "7fdf826f",
   "metadata": {},
   "outputs": [],
   "source": []
  },
  {
   "cell_type": "code",
   "execution_count": 56,
   "id": "d4018a83",
   "metadata": {},
   "outputs": [
    {
     "name": "stdout",
     "output_type": "stream",
     "text": [
      "Help on built-in function find:\n",
      "\n",
      "find(...) method of builtins.str instance\n",
      "    S.find(sub[, start[, end]]) -> int\n",
      "    \n",
      "    Return the lowest index in S where substring sub is found,\n",
      "    such that sub is contained within S[start:end].  Optional\n",
      "    arguments start and end are interpreted as in slice notation.\n",
      "    \n",
      "    Return -1 on failure.\n",
      "\n"
     ]
    }
   ],
   "source": [
    "help(s.find)"
   ]
  },
  {
   "cell_type": "code",
   "execution_count": null,
   "id": "8953d727",
   "metadata": {},
   "outputs": [],
   "source": []
  }
 ],
 "metadata": {
  "kernelspec": {
   "display_name": "Python 3 (ipykernel)",
   "language": "python",
   "name": "python3"
  },
  "language_info": {
   "codemirror_mode": {
    "name": "ipython",
    "version": 3
   },
   "file_extension": ".py",
   "mimetype": "text/x-python",
   "name": "python",
   "nbconvert_exporter": "python",
   "pygments_lexer": "ipython3",
   "version": "3.11.3"
  }
 },
 "nbformat": 4,
 "nbformat_minor": 5
}
