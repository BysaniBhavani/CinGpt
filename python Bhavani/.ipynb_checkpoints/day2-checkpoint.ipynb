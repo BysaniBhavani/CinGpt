{
 "cells": [
  {
   "cell_type": "markdown",
   "id": "66d713dc",
   "metadata": {},
   "source": [
    "## data types\n",
    "    * int,float,string,boolean"
   ]
  },
  {
   "cell_type": "code",
   "execution_count": 2,
   "id": "004f5336",
   "metadata": {},
   "outputs": [
    {
     "name": "stdout",
     "output_type": "stream",
     "text": [
      "<class 'int'>\n"
     ]
    }
   ],
   "source": [
    "a=19\n",
    "print(type(a))"
   ]
  },
  {
   "cell_type": "code",
   "execution_count": 3,
   "id": "cee1be41",
   "metadata": {},
   "outputs": [
    {
     "name": "stdout",
     "output_type": "stream",
     "text": [
      "<class 'float'>\n"
     ]
    }
   ],
   "source": [
    "b=32.2\n",
    "print(type(b))"
   ]
  },
  {
   "cell_type": "code",
   "execution_count": 4,
   "id": "9488550f",
   "metadata": {},
   "outputs": [
    {
     "name": "stdout",
     "output_type": "stream",
     "text": [
      "<class 'str'>\n"
     ]
    }
   ],
   "source": [
    "c='seetha'\n",
    "print(type(c))"
   ]
  },
  {
   "cell_type": "code",
   "execution_count": 6,
   "id": "a3d5b8d5",
   "metadata": {},
   "outputs": [
    {
     "name": "stdout",
     "output_type": "stream",
     "text": [
      "<class 'bool'>\n"
     ]
    }
   ],
   "source": [
    "d=True\n",
    "print(type(d))"
   ]
  },
  {
   "cell_type": "code",
   "execution_count": 7,
   "id": "0f75e62e",
   "metadata": {},
   "outputs": [
    {
     "name": "stdout",
     "output_type": "stream",
     "text": [
      "<class 'str'>\n"
     ]
    }
   ],
   "source": [
    "name = \"bhavani\"\n",
    "print(type(name))"
   ]
  },
  {
   "cell_type": "markdown",
   "id": "41303978",
   "metadata": {},
   "source": [
    "### Conditional statements\n",
    "* to make decision\n",
    "* helps to decide what program should do next\n",
    "* flow of execution\n",
    "* if\n",
    "* if else\n",
    "* if elif else\n",
    "* Nested if"
   ]
  },
  {
   "cell_type": "markdown",
   "id": "4bb4dba3",
   "metadata": {},
   "source": [
    "### syntax\n",
    "    * if condition:\n",
    "     - statements\n",
    "        "
   ]
  },
  {
   "cell_type": "code",
   "execution_count": 14,
   "id": "6b23c404",
   "metadata": {},
   "outputs": [
    {
     "name": "stdout",
     "output_type": "stream",
     "text": [
      "enter a number : -34\n",
      "<class 'int'>\n",
      "negative number\n"
     ]
    }
   ],
   "source": [
    "# write a program to check whether the given number is positive or not\n",
    "# int() typecast the date , input() will take the user  runtime input which is string by default\n",
    "\n",
    "a = int(input(\"enter a number : \"))\n",
    "print(type(a))\n",
    "if a>0 :\n",
    "    print(\"Positive number\")\n",
    "if a<0 :\n",
    "    print(\"negative number\")"
   ]
  },
  {
   "cell_type": "markdown",
   "id": "81307277",
   "metadata": {},
   "source": [
    "if-else\n",
    "* syntax\n",
    "* if condition :\n",
    "    * body of if\n",
    "* else :\n",
    "    * body of else\n",
    "* If the given condition is true then control goes to body of if and statements inside if will be executed . If the condition is false then goes to else part and statements inside else will be executes"
   ]
  },
  {
   "cell_type": "code",
   "execution_count": 15,
   "id": "b5235737",
   "metadata": {},
   "outputs": [
    {
     "name": "stdout",
     "output_type": "stream",
     "text": [
      "enter a number : 33\n",
      "given number is odd number\n"
     ]
    }
   ],
   "source": [
    "# write a program to check whether the given number even or odd\n",
    "\n",
    "n = int(input(\"enter a number : \"))\n",
    "if n%2 == 0 :\n",
    "    print(\"given number is even number\")\n",
    "else : \n",
    "    print(\"given number is odd number\")"
   ]
  },
  {
   "cell_type": "markdown",
   "id": "68f38eaa",
   "metadata": {},
   "source": [
    "### if-elif-else\n",
    "* syntax:\n",
    "* if condition:\n",
    "    * statements\n",
    "*elif  condition :\n",
    "    * statements\n",
    "* else :\n",
    "    * statements"
   ]
  },
  {
   "cell_type": "code",
   "execution_count": 25,
   "id": "4f939751",
   "metadata": {},
   "outputs": [
    {
     "name": "stdout",
     "output_type": "stream",
     "text": [
      "enter a number22\n",
      "enter a number36\n",
      "enter a number38\n",
      "38  is largest value\n"
     ]
    }
   ],
   "source": [
    "a = int(input(\"enter a number\"))\n",
    "b = int(input(\"enter a number\"))\n",
    "c = int(input(\"enter a number\"))\n",
    "if a>b and a>c :\n",
    "    print(a,\" is largest value\")\n",
    "elif b>c :\n",
    "    print(b,\" is largest value\")\n",
    "else :\n",
    "    print(c,\" is largest value\")"
   ]
  },
  {
   "cell_type": "markdown",
   "id": "f45d293e",
   "metadata": {},
   "source": [
    "### nested if else\n",
    "* if you write a if - else inside another if - else then it is called as nested if - else\n",
    "* syntax:\n",
    "* if condition :\n",
    "    * if condition :\n",
    "        * statements\n",
    "    * else :\n",
    "         * statements\n",
    "* else\n",
    "    * statements"
   ]
  },
  {
   "cell_type": "code",
   "execution_count": 24,
   "id": "43ffd92f",
   "metadata": {},
   "outputs": [
    {
     "name": "stdout",
     "output_type": "stream",
     "text": [
      "enter a number-35\n",
      "-35  is negative number\n"
     ]
    }
   ],
   "source": [
    "# write a program to check whether the given number is positive , negative number or equals to zeri\n",
    "\n",
    "n = int(input(\"enter a number\"))\n",
    "\n",
    "if n>0 :\n",
    "    print(n,\" is positive number\")\n",
    "else:\n",
    "    if n==0 :\n",
    "        print(n,\" is equal to zero\")\n",
    "    else :\n",
    "        print(n,\" is negative number\")"
   ]
  },
  {
   "cell_type": "markdown",
   "id": "38e8c93a",
   "metadata": {},
   "source": [
    "## Loops:\n",
    "* Used to execute bolck of code repeatedly\n",
    "### while\n",
    "* while executes set or block of statements repeatedly until condition is false\n",
    "* we use while we don't know number of iterations inadvance\n",
    "\n",
    "* syntax:\n",
    "* Intialization:\n",
    "* while condition:\n",
    "    * statements\n",
    "    * increment/decrement"
   ]
  },
  {
   "cell_type": "code",
   "execution_count": 26,
   "id": "483906aa",
   "metadata": {},
   "outputs": [
    {
     "name": "stdout",
     "output_type": "stream",
     "text": [
      "1 2 3 4 5 6 7 8 9 10 "
     ]
    }
   ],
   "source": [
    "# write a program to print 1 - 10 natural numbers\n",
    "\n",
    "i=1\n",
    "while i<=10:\n",
    "    print(i,end=\" \") # end is used \n",
    "    i+=1"
   ]
  },
  {
   "cell_type": "code",
   "execution_count": 28,
   "id": "0591f568",
   "metadata": {},
   "outputs": [
    {
     "name": "stdout",
     "output_type": "stream",
     "text": [
      "10 9 8 7 6 5 4 3 2 1 "
     ]
    }
   ],
   "source": [
    "# print natural numbers from 10 - 1\n",
    "\n",
    "i=10\n",
    "while i>=1:\n",
    "    print(i,end=\" \")\n",
    "    i-=1"
   ]
  },
  {
   "cell_type": "code",
   "execution_count": 29,
   "id": "5bd4e89b",
   "metadata": {},
   "outputs": [
    {
     "name": "stdout",
     "output_type": "stream",
     "text": [
      "enter n value: 9\n",
      "sum of natural numbers is :  45\n"
     ]
    }
   ],
   "source": [
    "# sum of n natural numbers\n",
    "# i/p : n =4 , o/p (1+2+3+4)\n",
    "\n",
    "n = int(input(\"enter n value: \"))\n",
    "s = 0\n",
    "i = 1\n",
    "while i<=n:\n",
    "    s=s+i\n",
    "    i=i+1\n",
    "print(\"sum of natural numbers is : \",s)"
   ]
  },
  {
   "cell_type": "code",
   "execution_count": null,
   "id": "35e9e975",
   "metadata": {},
   "outputs": [],
   "source": [
    "### for loop\n",
    "* syntax\n",
    "* for variable in sequence:\n",
    "    * statements\n"
   ]
  },
  {
   "cell_type": "code",
   "execution_count": 31,
   "id": "5363643e",
   "metadata": {},
   "outputs": [
    {
     "name": "stdout",
     "output_type": "stream",
     "text": [
      "1 2 3 4 5 6 7 8 9 10 "
     ]
    }
   ],
   "source": [
    "# print 1 - 10 natural numbers\n",
    "\n",
    "for i in range(1,11):\n",
    "    print(i,end=\" \")"
   ]
  },
  {
   "cell_type": "code",
   "execution_count": 37,
   "id": "34897e28",
   "metadata": {},
   "outputs": [
    {
     "name": "stdout",
     "output_type": "stream",
     "text": [
      "enter range :20\n",
      "and 30\n",
      "20 22 24 26 28 30 "
     ]
    }
   ],
   "source": [
    "# print even or odd in given range\n",
    "\n",
    "a=int(input(\"enter range :\"))\n",
    "b=int(input(\"and \"))\n",
    "for i in range(a,b+1):\n",
    "    if i%2==0:\n",
    "        print(i,end=\" \")\n"
   ]
  },
  {
   "cell_type": "code",
   "execution_count": 39,
   "id": "45b7a6a0",
   "metadata": {},
   "outputs": [
    {
     "name": "stdout",
     "output_type": "stream",
     "text": [
      "2 4 6 8 10 12 14 16 18 20 22 24 26 28 30 32 34 36 38 40 42 44 46 48 50 52 54 56 58 60 62 64 66 68 70 72 74 76 78 80 82 84 86 88 90 92 94 96 98 100 "
     ]
    }
   ],
   "source": [
    "# print even in 1 - 100\n",
    "\n",
    "for i in range(2,101,2):\n",
    "    print(i,end=\" \")"
   ]
  },
  {
   "cell_type": "code",
   "execution_count": 40,
   "id": "d421d204",
   "metadata": {},
   "outputs": [
    {
     "name": "stdout",
     "output_type": "stream",
     "text": [
      "1 3 5 7 9 11 13 15 17 19 21 23 25 27 29 31 33 35 37 39 41 43 45 47 49 51 53 55 57 59 61 63 65 67 69 71 73 75 77 79 81 83 85 87 89 91 93 95 97 99 "
     ]
    }
   ],
   "source": [
    "# print odd in 1 - 100\n",
    "\n",
    "for i in range(1,100,2):\n",
    "    print(i,end=\" \")"
   ]
  },
  {
   "cell_type": "code",
   "execution_count": null,
   "id": "14f3aaf3",
   "metadata": {},
   "outputs": [],
   "source": [
    "### loop control statemets\n",
    "* break : terminates the loop containing it, control goes to the statement immediately outside the loop\n",
    "    * if used inside nested loop, then it terminates the inner most loop\n",
    "* continue\n",
    "    * used to skip the rest of the code for current iteration only\n",
    "    * loop does not terminates continues with next iteration\n",
    "* pass\n",
    "    * null statement"
   ]
  },
  {
   "cell_type": "code",
   "execution_count": 46,
   "id": "a0288071",
   "metadata": {},
   "outputs": [
    {
     "name": "stdout",
     "output_type": "stream",
     "text": [
      "p\n",
      "y\n",
      "t\n",
      "h\n"
     ]
    }
   ],
   "source": [
    "c='python'\n",
    "for i in c:\n",
    "    if i=='o':\n",
    "        break\n",
    "    print(i)"
   ]
  },
  {
   "cell_type": "code",
   "execution_count": 45,
   "id": "f8918678",
   "metadata": {},
   "outputs": [
    {
     "name": "stdout",
     "output_type": "stream",
     "text": [
      "p\n",
      "y\n",
      "t\n",
      "h\n",
      "o\n",
      "n\n"
     ]
    }
   ],
   "source": [
    "c='python'\n",
    "for i in c:\n",
    "    print(i)"
   ]
  },
  {
   "cell_type": "code",
   "execution_count": 47,
   "id": "3ccb442b",
   "metadata": {},
   "outputs": [
    {
     "name": "stdout",
     "output_type": "stream",
     "text": [
      "p\n",
      "y\n",
      "t\n",
      "h\n",
      "n\n"
     ]
    }
   ],
   "source": [
    "c='python'\n",
    "for i in c:\n",
    "    if i=='o':\n",
    "        continue\n",
    "    print(i)"
   ]
  },
  {
   "cell_type": "code",
   "execution_count": 50,
   "id": "233bde96",
   "metadata": {},
   "outputs": [],
   "source": [
    "c='python'\n",
    "for i in c:\n",
    "    pass"
   ]
  },
  {
   "cell_type": "code",
   "execution_count": null,
   "id": "56127eae",
   "metadata": {},
   "outputs": [],
   "source": []
  }
 ],
 "metadata": {
  "kernelspec": {
   "display_name": "Python 3 (ipykernel)",
   "language": "python",
   "name": "python3"
  },
  "language_info": {
   "codemirror_mode": {
    "name": "ipython",
    "version": 3
   },
   "file_extension": ".py",
   "mimetype": "text/x-python",
   "name": "python",
   "nbconvert_exporter": "python",
   "pygments_lexer": "ipython3",
   "version": "3.11.3"
  }
 },
 "nbformat": 4,
 "nbformat_minor": 5
}
