{
 "cells": [
  {
   "cell_type": "code",
   "execution_count": null,
   "id": "53aded48",
   "metadata": {},
   "outputs": [],
   "source": []
  },
  {
   "cell_type": "code",
   "execution_count": null,
   "id": "ca027499",
   "metadata": {},
   "outputs": [],
   "source": [
    "### shortcuts\n",
    "* esc+m -> to convert into markdown cell\n",
    "* esc+y -> to convert into coding cell\n",
    "* esc+a -> to create a new cell above\n",
    "* esc+b -> to create a new cell below\n",
    "* esc+h -> for shortcuts\n",
    "* shift+enter -> to run the cells"
   ]
  },
  {
   "cell_type": "markdown",
   "id": "d81a2cf4",
   "metadata": {},
   "source": [
    "# largest heading\n",
    "## second largest\n",
    "### third largest\n",
    "#### h4\n",
    "##### h5\n",
    "###### smallest heading"
   ]
  },
  {
   "cell_type": "code",
   "execution_count": null,
   "id": "c867cf3b",
   "metadata": {},
   "outputs": [],
   "source": [
    "* **This is bole text**\n",
    "* *this is italic*\n",
    "* ***this is both bold and italic***\n",
    "* ~~This is strike through~~"
   ]
  },
  {
   "cell_type": "code",
   "execution_count": null,
   "id": "17db94f9",
   "metadata": {},
   "outputs": [],
   "source": [
    "### Operators in python\n",
    "* Arithmetic operators(*,-,*,/,%,//,**)\n",
    " - used to perform mathematical operations"
   ]
  },
  {
   "cell_type": "code",
   "execution_count": 14,
   "id": "9f4aba10",
   "metadata": {},
   "outputs": [
    {
     "name": "stdout",
     "output_type": "stream",
     "text": [
      "<class 'int'>\n",
      "<class 'int'>\n",
      "70\n",
      "30\n",
      "1000\n",
      "2.5\n",
      "10\n",
      "2\n",
      "9536743164062500000000000000000000\n"
     ]
    }
   ],
   "source": [
    "a=50\n",
    "b=20\n",
    "print(type(a)) # to know data type of variable\n",
    "print(type(b))\n",
    "print(a+b)\n",
    "print(a-b)\n",
    "print(a*b)\n",
    "print(a/b)\n",
    "print(a%b)\n",
    "print(a//b)\n",
    "print(a**b)"
   ]
  },
  {
   "cell_type": "code",
   "execution_count": null,
   "id": "c3b14535",
   "metadata": {},
   "outputs": [],
   "source": [
    "*Assignment operations(=,+=,-=,*=,/=,%=,//=,**=)\n",
    " -  use to assign values to the variables"
   ]
  },
  {
   "cell_type": "code",
   "execution_count": 16,
   "id": "f866e6e8",
   "metadata": {},
   "outputs": [
    {
     "name": "stdout",
     "output_type": "stream",
     "text": [
      "110\n",
      "90\n",
      "450\n",
      "45.0\n",
      "5.0\n",
      "2.0\n",
      "32.0\n"
     ]
    }
   ],
   "source": [
    "a=100\n",
    "a+=10 # a= a+10\n",
    "print(a)\n",
    "a-=20\n",
    "print(a)\n",
    "a*=5\n",
    "print(a)\n",
    "a/=10\n",
    "print(a)\n",
    "a%=10\n",
    "print(a)\n",
    "a//=2\n",
    "print(a)\n",
    "a**=5\n",
    "print(a)"
   ]
  },
  {
   "cell_type": "markdown",
   "id": "0ddcd897",
   "metadata": {},
   "source": [
    "#### Comparision operators (==,!=,>,<,>=,<=)\n",
    "* used to compare two varibles"
   ]
  },
  {
   "cell_type": "code",
   "execution_count": null,
   "id": "045baf06",
   "metadata": {},
   "outputs": [],
   "source": [
    "a=10\n",
    "b=5\n",
    "print(a==b)\n",
    "print(a!=b)\n",
    "print(a>b)\n",
    "print(a<b)\n",
    "print(a>=b)\n",
    "print(a<=b)"
   ]
  }
 ],
 "metadata": {
  "kernelspec": {
   "display_name": "Python 3 (ipykernel)",
   "language": "python",
   "name": "python3"
  },
  "language_info": {
   "codemirror_mode": {
    "name": "ipython",
    "version": 3
   },
   "file_extension": ".py",
   "mimetype": "text/x-python",
   "name": "python",
   "nbconvert_exporter": "python",
   "pygments_lexer": "ipython3",
   "version": "3.11.3"
  }
 },
 "nbformat": 4,
 "nbformat_minor": 5
}
