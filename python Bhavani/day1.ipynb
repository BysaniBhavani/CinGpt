{
 "cells": [
  {
   "cell_type": "code",
   "execution_count": null,
   "id": "c50b7884",
   "metadata": {},
   "outputs": [],
   "source": []
  },
  {
   "cell_type": "code",
   "execution_count": null,
   "id": "cd8232de",
   "metadata": {},
   "outputs": [],
   "source": [
    "### shortcuts\n",
    "* esc+m -> to convert into markdown cell\n",
    "* esc+y -> to convert into coding cell\n",
    "* esc+a -> to create a new cell above\n",
    "* esc+b -> to create a new cell below\n",
    "* esc+h -> for shortcuts\n",
    "* shift+enter -> to run the cells"
   ]
  },
  {
   "cell_type": "markdown",
   "id": "b2812201",
   "metadata": {},
   "source": [
    "# largest heading\n",
    "## second largest\n",
    "### third largest\n",
    "#### h4\n",
    "##### h5\n",
    "###### smallest heading"
   ]
  },
  {
   "cell_type": "code",
   "execution_count": null,
   "id": "edc4552c",
   "metadata": {},
   "outputs": [],
   "source": [
    "* **This is bole text**\n",
    "* *this is italic*\n",
    "* ***this is both bold and italic***\n",
    "* ~~This is strike through~~"
   ]
  },
  {
   "cell_type": "code",
   "execution_count": null,
   "id": "63f4e944",
   "metadata": {},
   "outputs": [],
   "source": [
    "### Operators in python\n",
    "* Arithmetic operators(*,-,*,/,%,//,**)\n",
    " - used to perform mathematical operations"
   ]
  },
  {
   "cell_type": "code",
   "execution_count": 2,
   "id": "0099c039",
   "metadata": {},
   "outputs": [
    {
     "name": "stdout",
     "output_type": "stream",
     "text": [
      "<class 'int'>\n",
      "<class 'int'>\n",
      "70\n",
      "30\n",
      "1000\n",
      "2.5\n",
      "10\n",
      "2\n",
      "9536743164062500000000000000000000\n"
     ]
    }
   ],
   "source": [
    "a=50\n",
    "b=20\n",
    "print(type(a)) # to know data type of variable\n",
    "print(type(b))\n",
    "print(a+b)\n",
    "print(a-b)\n",
    "print(a*b)\n",
    "print(a/b)\n",
    "print(a%b)\n",
    "print(a//b)\n",
    "print(a**b)"
   ]
  },
  {
   "cell_type": "markdown",
   "id": "f2f8888a",
   "metadata": {},
   "source": [
    "*Assignment operations(=,+=,-=,*=,/=,%=,//=,**=)\n",
    " -  use to assign values to the variables"
   ]
  },
  {
   "cell_type": "code",
   "execution_count": 21,
   "id": "c1b5534a",
   "metadata": {},
   "outputs": [
    {
     "name": "stdout",
     "output_type": "stream",
     "text": [
      "110\n",
      "90\n",
      "450\n",
      "45.0\n",
      "5.0\n",
      "2.0\n",
      "32.0\n"
     ]
    }
   ],
   "source": [
    "a=100\n",
    "a+=10 # a= a+10\n",
    "print(a)\n",
    "a-=20\n",
    "print(a)\n",
    "a*=5\n",
    "print(a)\n",
    "a/=10\n",
    "print(a)\n",
    "a%=10\n",
    "print(a)\n",
    "a//=2\n",
    "print(a)\n",
    "a**=5\n",
    "print(a)"
   ]
  },
  {
   "cell_type": "markdown",
   "id": "92573049",
   "metadata": {},
   "source": [
    "#### Comparision operators (==,!=,>,<,>=,<=)\n",
    "* used to compare two varibles"
   ]
  },
  {
   "cell_type": "code",
   "execution_count": 36,
   "id": "0fae1dc8",
   "metadata": {},
   "outputs": [
    {
     "name": "stdout",
     "output_type": "stream",
     "text": [
      "True\n",
      "False\n",
      "False\n",
      "False\n",
      "True\n",
      "True\n"
     ]
    }
   ],
   "source": [
    "a=10\n",
    "b=10\n",
    "print(a==b)\n",
    "print(a!=b)\n",
    "print(a>b)\n",
    "print(a<b)\n",
    "print(a>=b)\n",
    "print(a<=b)"
   ]
  },
  {
   "cell_type": "markdown",
   "id": "2d8f93ca",
   "metadata": {},
   "source": [
    "### Logical operators ( and , or, not)\n",
    "* used to combine conditional statements\n",
    "    - and -> returns true if both statements are true\n",
    "    - or -> if any statement is true returns true\n",
    "    - not -> if the statement is true it returns false and vice versa"
   ]
  },
  {
   "cell_type": "code",
   "execution_count": 24,
   "id": "6779db86",
   "metadata": {},
   "outputs": [
    {
     "name": "stdout",
     "output_type": "stream",
     "text": [
      "False\n",
      "True\n",
      "True\n",
      "True\n",
      "False\n"
     ]
    }
   ],
   "source": [
    "a=90\n",
    "b=40\n",
    "print(a>b and a==b)\n",
    "print(a>b and a>=b)\n",
    "print(a>b or a==b)\n",
    "print(a>b or a>=b)\n",
    "print(not(a>b))"
   ]
  },
  {
   "cell_type": "markdown",
   "id": "67d524aa",
   "metadata": {},
   "source": [
    "### identity operators (is, is not)\n",
    " - used to compare variables of same objects or not (memory allocation)\n",
    " - is -> Returns true if both variables are same objects\n",
    " - is not -> Returns true if both variables are not the same objects"
   ]
  },
  {
   "cell_type": "markdown",
   "id": "c261aab5",
   "metadata": {},
   "source": [
    "a=10\n",
    "b=10\n",
    "c=5\n",
    "print( a is b) #a and b share same allocation because both values are same\n",
    "print( a is not b)\n",
    "print(a is c)\n",
    "print(a is not c)"
   ]
  },
  {
   "cell_type": "markdown",
   "id": "6b7960e0",
   "metadata": {},
   "source": [
    "### membership operator\n",
    " - used to test if a sequence is present or not"
   ]
  },
  {
   "cell_type": "code",
   "execution_count": 31,
   "id": "f10a0606",
   "metadata": {},
   "outputs": [
    {
     "name": "stdout",
     "output_type": "stream",
     "text": [
      "True\n",
      "False\n",
      "True\n"
     ]
    }
   ],
   "source": [
    "name = 'seetha'\n",
    "print('s' in name)\n",
    "print('y' in name)\n",
    "print('y' not in name)"
   ]
  },
  {
   "cell_type": "code",
   "execution_count": 33,
   "id": "0673800f",
   "metadata": {},
   "outputs": [
    {
     "name": "stdout",
     "output_type": "stream",
     "text": [
      "True\n",
      "False\n",
      "True\n"
     ]
    }
   ],
   "source": [
    "name= 'seetha'\n",
    "print('s' in name)\n",
    "print('y' in name)\n",
    "print('y' not in name)"
   ]
  },
  {
   "cell_type": "code",
   "execution_count": 35,
   "id": "bb68a974",
   "metadata": {},
   "outputs": [
    {
     "name": "stdout",
     "output_type": "stream",
     "text": [
      "True\n"
     ]
    }
   ],
   "source": [
    "name='josya'\n",
    "print('j'in name)"
   ]
  },
  {
   "cell_type": "code",
   "execution_count": 37,
   "id": "2cb00861",
   "metadata": {},
   "outputs": [
    {
     "name": "stdout",
     "output_type": "stream",
     "text": [
      "False\n"
     ]
    }
   ],
   "source": [
    "josya = 10\n",
    "janaya = 4\n",
    "print(josya==janaya)"
   ]
  },
  {
   "cell_type": "code",
   "execution_count": null,
   "id": "9c2d209c",
   "metadata": {},
   "outputs": [],
   "source": [
    "r=5\n",
    "s=8\n",
    "print(r==)"
   ]
  }
 ],
 "metadata": {
  "kernelspec": {
   "display_name": "Python 3 (ipykernel)",
   "language": "python",
   "name": "python3"
  },
  "language_info": {
   "codemirror_mode": {
    "name": "ipython",
    "version": 3
   },
   "file_extension": ".py",
   "mimetype": "text/x-python",
   "name": "python",
   "nbconvert_exporter": "python",
   "pygments_lexer": "ipython3",
   "version": "3.11.3"
  }
 },
 "nbformat": 4,
 "nbformat_minor": 5
}
