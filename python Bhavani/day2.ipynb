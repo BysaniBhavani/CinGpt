{
 "cells": [
  {
   "cell_type": "markdown",
   "id": "035d2bc5",
   "metadata": {},
   "source": [
    "## data types\n",
    "    * int,float,string,boolean"
   ]
  },
  {
   "cell_type": "code",
   "execution_count": 51,
   "id": "a712ddb9",
   "metadata": {},
   "outputs": [
    {
     "name": "stdout",
     "output_type": "stream",
     "text": [
      "<class 'int'>\n"
     ]
    }
   ],
   "source": [
    "a=19\n",
    "print(type(a))"
   ]
  },
  {
   "cell_type": "code",
   "execution_count": 52,
   "id": "94510a67",
   "metadata": {},
   "outputs": [
    {
     "name": "stdout",
     "output_type": "stream",
     "text": [
      "<class 'float'>\n"
     ]
    }
   ],
   "source": [
    "b=32.2\n",
    "print(type(b))"
   ]
  },
  {
   "cell_type": "code",
   "execution_count": 53,
   "id": "c3197bdf",
   "metadata": {},
   "outputs": [
    {
     "name": "stdout",
     "output_type": "stream",
     "text": [
      "<class 'str'>\n"
     ]
    }
   ],
   "source": [
    "c='seetha'\n",
    "print(type(c))"
   ]
  },
  {
   "cell_type": "code",
   "execution_count": 54,
   "id": "675a90db",
   "metadata": {},
   "outputs": [
    {
     "name": "stdout",
     "output_type": "stream",
     "text": [
      "<class 'bool'>\n"
     ]
    }
   ],
   "source": [
    "d=True\n",
    "print(type(d))"
   ]
  },
  {
   "cell_type": "code",
   "execution_count": 55,
   "id": "6a1253bc",
   "metadata": {},
   "outputs": [
    {
     "name": "stdout",
     "output_type": "stream",
     "text": [
      "<class 'str'>\n"
     ]
    }
   ],
   "source": [
    "name = \"bhavani\"\n",
    "print(type(name))"
   ]
  },
  {
   "cell_type": "markdown",
   "id": "b529dcae",
   "metadata": {},
   "source": [
    "### Conditional statements\n",
    "* to make decision\n",
    "* helps to decide what program should do next\n",
    "* flow of execution\n",
    "* if\n",
    "* if else\n",
    "* if elif else\n",
    "* Nested if"
   ]
  },
  {
   "cell_type": "markdown",
   "id": "c2851401",
   "metadata": {},
   "source": [
    "### syntax\n",
    "    * if condition:\n",
    "     - statements\n",
    "        "
   ]
  },
  {
   "cell_type": "code",
   "execution_count": 56,
   "id": "b04977fd",
   "metadata": {},
   "outputs": [
    {
     "name": "stdout",
     "output_type": "stream",
     "text": [
      "enter a number : 213\n",
      "<class 'int'>\n",
      "Positive number\n"
     ]
    }
   ],
   "source": [
    "# write a program to check whether the given number is positive or not\n",
    "# int() typecast the date , input() will take the user  runtime input which is string by default\n",
    "\n",
    "a = int(input(\"enter a number : \"))\n",
    "print(type(a))\n",
    "if a>0 :\n",
    "    print(\"Positive number\")\n",
    "if a<0 :\n",
    "    print(\"negative number\")"
   ]
  },
  {
   "cell_type": "markdown",
   "id": "dbde6910",
   "metadata": {},
   "source": [
    "if-else\n",
    "* syntax\n",
    "* if condition :\n",
    "    * body of if\n",
    "* else :\n",
    "    * body of else\n",
    "* If the given condition is true then control goes to body of if and statements inside if will be executed . If the condition is false then goes to else part and statements inside else will be executes"
   ]
  },
  {
   "cell_type": "code",
   "execution_count": 57,
   "id": "88aef782",
   "metadata": {},
   "outputs": [
    {
     "name": "stdout",
     "output_type": "stream",
     "text": [
      "enter a number : 215\n",
      "given number is odd number\n"
     ]
    }
   ],
   "source": [
    "# write a program to check whether the given number even or odd\n",
    "\n",
    "n = int(input(\"enter a number : \"))\n",
    "if n%2 == 0 :\n",
    "    print(\"given number is even number\")\n",
    "else : \n",
    "    print(\"given number is odd number\")"
   ]
  },
  {
   "cell_type": "markdown",
   "id": "a22e0bb8",
   "metadata": {},
   "source": [
    "### if-elif-else\n",
    "* syntax:\n",
    "* if condition:\n",
    "    * statements\n",
    "*elif  condition :\n",
    "    * statements\n",
    "* else :\n",
    "    * statements"
   ]
  },
  {
   "cell_type": "code",
   "execution_count": 58,
   "id": "cd4054c2",
   "metadata": {},
   "outputs": [
    {
     "name": "stdout",
     "output_type": "stream",
     "text": [
      "enter a number25\n",
      "enter a number25\n",
      "enter a number64\n",
      "64  is largest value\n"
     ]
    }
   ],
   "source": [
    "a = int(input(\"enter a number\"))\n",
    "b = int(input(\"enter a number\"))\n",
    "c = int(input(\"enter a number\"))\n",
    "if a>b and a>c :\n",
    "    print(a,\" is largest value\")\n",
    "elif b>c :\n",
    "    print(b,\" is largest value\")\n",
    "else :\n",
    "    print(c,\" is largest value\")"
   ]
  },
  {
   "cell_type": "markdown",
   "id": "8c891d32",
   "metadata": {},
   "source": [
    "### nested if else\n",
    "* if you write a if - else inside another if - else then it is called as nested if - else\n",
    "* syntax:\n",
    "* if condition :\n",
    "    * if condition :\n",
    "        * statements\n",
    "    * else :\n",
    "         * statements\n",
    "* else\n",
    "    * statements"
   ]
  },
  {
   "cell_type": "code",
   "execution_count": 59,
   "id": "bff44b6c",
   "metadata": {},
   "outputs": [
    {
     "name": "stdout",
     "output_type": "stream",
     "text": [
      "enter a number45\n",
      "45  is positive number\n"
     ]
    }
   ],
   "source": [
    "# write a program to check whether the given number is positive , negative number or equals to zeri\n",
    "\n",
    "n = int(input(\"enter a number\"))\n",
    "\n",
    "if n>0 :\n",
    "    print(n,\" is positive number\")\n",
    "else:\n",
    "    if n==0 :\n",
    "        print(n,\" is equal to zero\")\n",
    "    else :\n",
    "        print(n,\" is negative number\")"
   ]
  },
  {
   "cell_type": "markdown",
   "id": "a0dcac44",
   "metadata": {},
   "source": [
    "## Loops:\n",
    "* Used to execute bolck of code repeatedly\n",
    "### while\n",
    "* while executes set or block of statements repeatedly until condition is false\n",
    "* we use while we don't know number of iterations inadvance\n",
    "\n",
    "* syntax:\n",
    "* Intialization:\n",
    "* while condition:\n",
    "    * statements\n",
    "    * increment/decrement"
   ]
  },
  {
   "cell_type": "code",
   "execution_count": 60,
   "id": "3ece2a65",
   "metadata": {},
   "outputs": [
    {
     "name": "stdout",
     "output_type": "stream",
     "text": [
      "1 2 3 4 5 6 7 8 9 10 "
     ]
    }
   ],
   "source": [
    "# write a program to print 1 - 10 natural numbers\n",
    "\n",
    "i=1\n",
    "while i<=10:\n",
    "    print(i,end=\" \") # end is used \n",
    "    i+=1"
   ]
  },
  {
   "cell_type": "code",
   "execution_count": 61,
   "id": "de6df2e4",
   "metadata": {},
   "outputs": [
    {
     "name": "stdout",
     "output_type": "stream",
     "text": [
      "10 9 8 7 6 5 4 3 2 1 "
     ]
    }
   ],
   "source": [
    "# print natural numbers from 10 - 1\n",
    "\n",
    "i=10\n",
    "while i>=1:\n",
    "    print(i,end=\" \")\n",
    "    i-=1"
   ]
  },
  {
   "cell_type": "code",
   "execution_count": 62,
   "id": "9b056ee5",
   "metadata": {},
   "outputs": [
    {
     "name": "stdout",
     "output_type": "stream",
     "text": [
      "enter n value: 12\n",
      "sum of natural numbers is :  78\n"
     ]
    }
   ],
   "source": [
    "# sum of n natural numbers\n",
    "# i/p : n =4 , o/p (1+2+3+4)\n",
    "\n",
    "n = int(input(\"enter n value: \"))\n",
    "s = 0\n",
    "i = 1\n",
    "while i<=n:\n",
    "    s=s+i\n",
    "    i=i+1\n",
    "print(\"sum of natural numbers is : \",s)"
   ]
  },
  {
   "cell_type": "code",
   "execution_count": 63,
   "id": "1050c2db",
   "metadata": {},
   "outputs": [
    {
     "ename": "SyntaxError",
     "evalue": "invalid syntax (2239739999.py, line 3)",
     "output_type": "error",
     "traceback": [
      "\u001b[1;36m  Cell \u001b[1;32mIn[63], line 3\u001b[1;36m\u001b[0m\n\u001b[1;33m    * for variable in sequence:\u001b[0m\n\u001b[1;37m      ^\u001b[0m\n\u001b[1;31mSyntaxError\u001b[0m\u001b[1;31m:\u001b[0m invalid syntax\n"
     ]
    }
   ],
   "source": [
    "### for loop\n",
    "* syntax\n",
    "* for variable in sequence:\n",
    "    * statements\n"
   ]
  },
  {
   "cell_type": "code",
   "execution_count": null,
   "id": "b115e962",
   "metadata": {},
   "outputs": [],
   "source": [
    "# print 1 - 10 natural numbers\n",
    "\n",
    "for i in range(1,11):\n",
    "    print(i,end=\" \")"
   ]
  },
  {
   "cell_type": "code",
   "execution_count": null,
   "id": "d8ad4217",
   "metadata": {},
   "outputs": [],
   "source": [
    "# print even or odd in given range\n",
    "\n",
    "a=int(input(\"enter range :\"))\n",
    "b=int(input(\"and \"))\n",
    "for i in range(a,b+1):\n",
    "    if i%2==0:\n",
    "        print(i,end=\" \")\n"
   ]
  },
  {
   "cell_type": "code",
   "execution_count": null,
   "id": "2a271384",
   "metadata": {},
   "outputs": [],
   "source": [
    "# print even in 1 - 100\n",
    "\n",
    "for i in range(2,101,2):\n",
    "    print(i,end=\" \")"
   ]
  },
  {
   "cell_type": "code",
   "execution_count": null,
   "id": "47748fee",
   "metadata": {},
   "outputs": [],
   "source": [
    "# print odd in 1 - 100\n",
    "\n",
    "for i in range(1,100,2):\n",
    "    print(i,end=\" \")"
   ]
  },
  {
   "cell_type": "markdown",
   "id": "0a9a528f",
   "metadata": {},
   "source": [
    "### loop control statemets\n",
    "* break : terminates the loop containing it, control goes to the statement immediately outside the loop\n",
    "    * if used inside nested loop, then it terminates the inner most loop\n",
    "* continue\n",
    "    * used to skip the rest of the code for current iteration only\n",
    "    * loop does not terminates continues with next iteration\n",
    "* pass\n",
    "    * null statement"
   ]
  },
  {
   "cell_type": "code",
   "execution_count": null,
   "id": "cc8af56a",
   "metadata": {},
   "outputs": [],
   "source": [
    "c='python'\n",
    "for i in c:\n",
    "    if i=='o':\n",
    "        break\n",
    "    print(i)"
   ]
  },
  {
   "cell_type": "code",
   "execution_count": null,
   "id": "4e527318",
   "metadata": {},
   "outputs": [],
   "source": [
    "c='python'\n",
    "for i in c:\n",
    "    print(i)"
   ]
  },
  {
   "cell_type": "code",
   "execution_count": null,
   "id": "5eee4514",
   "metadata": {},
   "outputs": [],
   "source": [
    "c='python'\n",
    "for i in c:\n",
    "    if i=='o':\n",
    "        continue\n",
    "    print(i)"
   ]
  },
  {
   "cell_type": "code",
   "execution_count": null,
   "id": "8e597da5",
   "metadata": {},
   "outputs": [],
   "source": [
    "c='python'\n",
    "for i in c:\n",
    "    pass"
   ]
  },
  {
   "cell_type": "code",
   "execution_count": null,
   "id": "ab4ce9ba",
   "metadata": {},
   "outputs": [],
   "source": []
  },
  {
   "cell_type": "code",
   "execution_count": null,
   "id": "4d1cd692",
   "metadata": {},
   "outputs": [],
   "source": []
  }
 ],
 "metadata": {
  "kernelspec": {
   "display_name": "Python 3 (ipykernel)",
   "language": "python",
   "name": "python3"
  },
  "language_info": {
   "codemirror_mode": {
    "name": "ipython",
    "version": 3
   },
   "file_extension": ".py",
   "mimetype": "text/x-python",
   "name": "python",
   "nbconvert_exporter": "python",
   "pygments_lexer": "ipython3",
   "version": "3.11.3"
  }
 },
 "nbformat": 4,
 "nbformat_minor": 5
}
