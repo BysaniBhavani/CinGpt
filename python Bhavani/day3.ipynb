{
 "cells": [
  {
   "cell_type": "markdown",
   "id": "ccf37d49",
   "metadata": {},
   "source": [
    "### data structures\n",
    "* used to store and organize data\n",
    "* List\n",
    "* Tuple\n",
    "* Dictionary\n",
    "* Set"
   ]
  },
  {
   "cell_type": "markdown",
   "id": "6a0db2be",
   "metadata": {},
   "source": [
    "### List\n",
    "* List is a collection of items\n",
    "* List is created by using square brackets []\n",
    "* List elements are seperated by commas ,\n",
    "* List is mutable i.e changable"
   ]
  },
  {
   "cell_type": "code",
   "execution_count": 19,
   "id": "58409cbc",
   "metadata": {},
   "outputs": [
    {
     "name": "stdout",
     "output_type": "stream",
     "text": [
      "[23, 32, 43, 12, 53]\n",
      "<class 'list'>\n",
      "53\n",
      "12\n",
      "163\n",
      "5\n"
     ]
    }
   ],
   "source": [
    "li=[23,32,43,12,53] # list of same type of data\n",
    "print(li) # print a list\n",
    "print(type(li)) # type\n",
    "print(max(li)) # maximum number in the list\n",
    "print(min(li))\n",
    "print(sum(li))\n",
    "print(len(li))"
   ]
  },
  {
   "cell_type": "code",
   "execution_count": 20,
   "id": "b47b7062",
   "metadata": {},
   "outputs": [
    {
     "name": "stdout",
     "output_type": "stream",
     "text": [
      "[12, 90.8, 'python']\n",
      "<class 'list'>\n"
     ]
    }
   ],
   "source": [
    "dl=[12,90.8,'python']\n",
    "print(dl)\n",
    "print(type(dl))"
   ]
  },
  {
   "cell_type": "code",
   "execution_count": 21,
   "id": "7cab60fe",
   "metadata": {},
   "outputs": [
    {
     "name": "stdout",
     "output_type": "stream",
     "text": [
      "[12, 23, 32, 43, 53]\n",
      "[53, 43, 32, 23, 12]\n"
     ]
    },
    {
     "data": {
      "text/plain": [
       "' \\nmulti\\nline comment \\n'"
      ]
     },
     "execution_count": 21,
     "metadata": {},
     "output_type": "execute_result"
    }
   ],
   "source": [
    "print(sorted(li)) # sorting of list in ascending order\n",
    "print(sorted(li,reverse=True)) # sorting of list in desecding order\n",
    "\n",
    "#single `line comment\n",
    "\"\"\" \n",
    "multi\n",
    "line comment \n",
    "\"\"\"\n"
   ]
  },
  {
   "cell_type": "code",
   "execution_count": 15,
   "id": "8fd72056",
   "metadata": {},
   "outputs": [
    {
     "name": "stdout",
     "output_type": "stream",
     "text": [
      "90\n",
      "65\n",
      "23\n",
      "65\n"
     ]
    }
   ],
   "source": [
    "# accessing list elements\n",
    "\n",
    "al=[90,87,65,54,23]\n",
    "#   0  1  2  3  4 forward index or positive index\n",
    "#  -5 -4 -3 -2 -1 backward index or -ve index\n",
    "\n",
    "print(al[0])\n",
    "print(al[2])\n",
    "print(al[-1])\n",
    "print(al[-3])"
   ]
  },
  {
   "cell_type": "code",
   "execution_count": 23,
   "id": "3b1595ee",
   "metadata": {},
   "outputs": [
    {
     "name": "stdout",
     "output_type": "stream",
     "text": [
      "141\n",
      "141\n"
     ]
    }
   ],
   "source": [
    "# 87+54\n",
    "print(al[1]+al[3])\n",
    "print(al[-4]+al[-2])"
   ]
  },
  {
   "cell_type": "code",
   "execution_count": 14,
   "id": "7e7392fd",
   "metadata": {},
   "outputs": [
    {
     "ename": "NameError",
     "evalue": "name 'al' is not defined",
     "output_type": "error",
     "traceback": [
      "\u001b[1;31m---------------------------------------------------------------------------\u001b[0m",
      "\u001b[1;31mNameError\u001b[0m                                 Traceback (most recent call last)",
      "Cell \u001b[1;32mIn[14], line 1\u001b[0m\n\u001b[1;32m----> 1\u001b[0m al\n",
      "\u001b[1;31mNameError\u001b[0m: name 'al' is not defined"
     ]
    }
   ],
   "source": [
    "al"
   ]
  },
  {
   "cell_type": "code",
   "execution_count": 12,
   "id": "420b1015",
   "metadata": {},
   "outputs": [
    {
     "data": {
      "text/plain": [
       "[87, 65, 54]"
      ]
     },
     "execution_count": 12,
     "metadata": {},
     "output_type": "execute_result"
    }
   ],
   "source": [
    "al[1:4:] #start , stop , step"
   ]
  },
  {
   "cell_type": "code",
   "execution_count": 13,
   "id": "2f85583d",
   "metadata": {},
   "outputs": [
    {
     "data": {
      "text/plain": [
       "[65, 23]"
      ]
     },
     "execution_count": 13,
     "metadata": {},
     "output_type": "execute_result"
    }
   ],
   "source": [
    "al[2:5:2] # with 1 interval or alternate"
   ]
  },
  {
   "cell_type": "code",
   "execution_count": 15,
   "id": "113270e0",
   "metadata": {},
   "outputs": [
    {
     "data": {
      "text/plain": [
       "[65, 23]"
      ]
     },
     "execution_count": 15,
     "metadata": {},
     "output_type": "execute_result"
    }
   ],
   "source": [
    "al[2::2] # till end of list with alternate "
   ]
  },
  {
   "cell_type": "code",
   "execution_count": 16,
   "id": "86b82e84",
   "metadata": {},
   "outputs": [
    {
     "data": {
      "text/plain": [
       "[90, 65, 23]"
      ]
     },
     "execution_count": 16,
     "metadata": {},
     "output_type": "execute_result"
    }
   ],
   "source": [
    "al[::2]"
   ]
  },
  {
   "cell_type": "code",
   "execution_count": 16,
   "id": "73e48439",
   "metadata": {},
   "outputs": [
    {
     "data": {
      "text/plain": [
       "[23, 54, 65, 87, 90]"
      ]
     },
     "execution_count": 16,
     "metadata": {},
     "output_type": "execute_result"
    }
   ],
   "source": [
    "# reverse a list\n",
    "al[::-1]"
   ]
  },
  {
   "cell_type": "code",
   "execution_count": 17,
   "id": "e9f8c6bc",
   "metadata": {},
   "outputs": [
    {
     "name": "stdout",
     "output_type": "stream",
     "text": [
      "[12, 23, 45, 89, 76, 90]\n"
     ]
    }
   ],
   "source": [
    "# concatenation +\n",
    " \n",
    "l1 = [12,23,45]\n",
    "l2 = [89,76,90]\n",
    "l3 = l1+l2\n",
    "print(l3)"
   ]
  },
  {
   "cell_type": "code",
   "execution_count": 6,
   "id": "9fa24c3b",
   "metadata": {},
   "outputs": [
    {
     "data": {
      "text/plain": [
       "[12, 23, 45, 12, 23, 45, 12, 23, 45, 12, 23, 45]"
      ]
     },
     "execution_count": 6,
     "metadata": {},
     "output_type": "execute_result"
    }
   ],
   "source": [
    "# repetition *\n",
    "l1*4"
   ]
  },
  {
   "cell_type": "code",
   "execution_count": 10,
   "id": "4648868d",
   "metadata": {},
   "outputs": [
    {
     "name": "stdout",
     "output_type": "stream",
     "text": [
      "['__add__', '__class__', '__class_getitem__', '__contains__', '__delattr__', '__delitem__', '__dir__', '__doc__', '__eq__', '__format__', '__ge__', '__getattribute__', '__getitem__', '__getstate__', '__gt__', '__hash__', '__iadd__', '__imul__', '__init__', '__init_subclass__', '__iter__', '__le__', '__len__', '__lt__', '__mul__', '__ne__', '__new__', '__reduce__', '__reduce_ex__', '__repr__', '__reversed__', '__rmul__', '__setattr__', '__setitem__', '__sizeof__', '__str__', '__subclasshook__', 'append', 'clear', 'copy', 'count', 'extend', 'index', 'insert', 'pop', 'remove', 'reverse', 'sort']\n"
     ]
    }
   ],
   "source": [
    "print(dir(l1))"
   ]
  },
  {
   "cell_type": "code",
   "execution_count": 19,
   "id": "91552735",
   "metadata": {},
   "outputs": [
    {
     "data": {
      "text/plain": [
       "[12, 23, 34, 90]"
      ]
     },
     "execution_count": 19,
     "metadata": {},
     "output_type": "execute_result"
    }
   ],
   "source": [
    "l=[12,23,34]\n",
    "l.append(90)\n",
    "l"
   ]
  },
  {
   "cell_type": "code",
   "execution_count": 25,
   "id": "43f1fb6a",
   "metadata": {},
   "outputs": [
    {
     "name": "stdout",
     "output_type": "stream",
     "text": [
      "[10, 20, 30, 40, 50, 1, 2, 3]\n"
     ]
    }
   ],
   "source": [
    "l=[10,20,30,40,50]\n",
    "l2=[1,2,3]\n",
    "l.extend(l2)\n",
    "print(l)"
   ]
  },
  {
   "cell_type": "code",
   "execution_count": 27,
   "id": "bc791027",
   "metadata": {},
   "outputs": [
    {
     "data": {
      "text/plain": [
       "3"
      ]
     },
     "execution_count": 27,
     "metadata": {},
     "output_type": "execute_result"
    }
   ],
   "source": [
    "l=[90,87,65,23,45,90,76,90]\n",
    "l.count(90)"
   ]
  },
  {
   "cell_type": "code",
   "execution_count": 28,
   "id": "864221a8",
   "metadata": {},
   "outputs": [
    {
     "data": {
      "text/plain": [
       "1"
      ]
     },
     "execution_count": 28,
     "metadata": {},
     "output_type": "execute_result"
    }
   ],
   "source": [
    "l.index(87)"
   ]
  },
  {
   "cell_type": "code",
   "execution_count": 49,
   "id": "2770e736",
   "metadata": {},
   "outputs": [
    {
     "name": "stdout",
     "output_type": "stream",
     "text": [
      "[10, 20, 25, 30, 40]\n"
     ]
    }
   ],
   "source": [
    "l=[10,20,30,40]\n",
    "l.insert(2,25) #index,value\n",
    "print(l)"
   ]
  },
  {
   "cell_type": "code",
   "execution_count": 36,
   "id": "fa29624c",
   "metadata": {},
   "outputs": [
    {
     "name": "stdout",
     "output_type": "stream",
     "text": [
      "[10, 20, 25, 32, 30, 40]\n"
     ]
    }
   ],
   "source": [
    "l.insert(3,32) # inserts at 3 position every time\n",
    "print(l)"
   ]
  },
  {
   "cell_type": "code",
   "execution_count": 37,
   "id": "9f4c568e",
   "metadata": {},
   "outputs": [
    {
     "data": {
      "text/plain": [
       "[10, 20, 25, 32, 30]"
      ]
     },
     "execution_count": 37,
     "metadata": {},
     "output_type": "execute_result"
    }
   ],
   "source": [
    "l.pop()\n",
    "l"
   ]
  },
  {
   "cell_type": "code",
   "execution_count": 38,
   "id": "d8669f0c",
   "metadata": {},
   "outputs": [
    {
     "data": {
      "text/plain": [
       "[10, 20, 25, 30]"
      ]
     },
     "execution_count": 38,
     "metadata": {},
     "output_type": "execute_result"
    }
   ],
   "source": [
    "l.remove(32)\n",
    "l"
   ]
  },
  {
   "cell_type": "code",
   "execution_count": 50,
   "id": "6875e384",
   "metadata": {},
   "outputs": [
    {
     "name": "stdout",
     "output_type": "stream",
     "text": [
      "[10, 20, 25, 30, 40]\n",
      "[10, 20, 25, 30, 40, 90]\n",
      "[10, 20, 25, 30, 40]\n"
     ]
    }
   ],
   "source": [
    "l2=l.copy()\n",
    "print(l2)\n",
    "l.append(90)\n",
    "print(l)\n",
    "print(l2) # different memory allocation"
   ]
  },
  {
   "cell_type": "code",
   "execution_count": 47,
   "id": "e50bd169",
   "metadata": {},
   "outputs": [
    {
     "name": "stdout",
     "output_type": "stream",
     "text": [
      "[10, 20, 25, 30, 40, 90, 90]\n",
      "[10, 20, 25, 30, 40, 90, 90, 90]\n",
      "[10, 20, 25, 30, 40, 90, 90, 90]\n"
     ]
    }
   ],
   "source": [
    "l2=l\n",
    "print(l2)\n",
    "l.append(90)\n",
    "print(l)\n",
    "print(l2) # same memory allocation to both l, l2"
   ]
  },
  {
   "cell_type": "code",
   "execution_count": 76,
   "id": "260ab613",
   "metadata": {},
   "outputs": [
    {
     "name": "stdout",
     "output_type": "stream",
     "text": [
      "10 20 30 40 50 "
     ]
    }
   ],
   "source": [
    "l=[10,20,30,40,50]\n",
    "for i in l:\n",
    "    print(i,end=\" \")"
   ]
  },
  {
   "cell_type": "code",
   "execution_count": 77,
   "id": "560714a5",
   "metadata": {},
   "outputs": [
    {
     "name": "stdout",
     "output_type": "stream",
     "text": [
      "10 20 30 40 50 "
     ]
    }
   ],
   "source": [
    "l=[10,20,30,40,50]\n",
    "for i in range(5):\n",
    "    print(l[i],end=\" \")"
   ]
  },
  {
   "cell_type": "code",
   "execution_count": 78,
   "id": "87c7edfc",
   "metadata": {},
   "outputs": [
    {
     "name": "stdout",
     "output_type": "stream",
     "text": [
      "0 1 2 3 4 "
     ]
    }
   ],
   "source": [
    "l=[10,20,30,40,50]\n",
    "for i in range(5):\n",
    "    print(i,end=\" \")"
   ]
  },
  {
   "cell_type": "markdown",
   "id": "b93c7f62",
   "metadata": {},
   "source": [
    "### tuple\n",
    "* Tuple is a collection of object\n",
    "* tuple is immutable\n",
    "* tuple is created by using ()"
   ]
  },
  {
   "cell_type": "code",
   "execution_count": 60,
   "id": "d82f4ff2",
   "metadata": {},
   "outputs": [
    {
     "name": "stdout",
     "output_type": "stream",
     "text": [
      "(10, 22, 33, 44, 55)\n",
      "<class 'tuple'>\n"
     ]
    }
   ],
   "source": [
    "t=(10,22,33,44,55)\n",
    "print(t)\n",
    "print(type(t))"
   ]
  },
  {
   "cell_type": "code",
   "execution_count": 54,
   "id": "dfb13046",
   "metadata": {},
   "outputs": [
    {
     "name": "stdout",
     "output_type": "stream",
     "text": [
      "(10, 22.3, 'test tuple')\n",
      "<class 'tuple'>\n"
     ]
    }
   ],
   "source": [
    "t1=(10,22.3,'test tuple')\n",
    "print(t)\n",
    "print(type(t))"
   ]
  },
  {
   "cell_type": "code",
   "execution_count": 56,
   "id": "7fe14beb",
   "metadata": {},
   "outputs": [
    {
     "name": "stdout",
     "output_type": "stream",
     "text": [
      "10\n",
      "33\n",
      "55\n"
     ]
    }
   ],
   "source": [
    "# accessing by using index forward index , backward index\n",
    "\n",
    "print(t[0])\n",
    "print(t[2])\n",
    "print(t[-1])"
   ]
  },
  {
   "cell_type": "code",
   "execution_count": 61,
   "id": "cf0acefd",
   "metadata": {},
   "outputs": [
    {
     "name": "stdout",
     "output_type": "stream",
     "text": [
      "55\n",
      "10\n",
      "164\n",
      "[10, 22, 33, 44, 55]\n",
      "[55, 44, 33, 22, 10]\n"
     ]
    }
   ],
   "source": [
    "t=(10,22,33,44,55)\n",
    "print(max(t))\n",
    "print(min(t))\n",
    "print(sum(t))\n",
    "print(sorted(t))\n",
    "print(sorted(t,reverse=True))"
   ]
  },
  {
   "cell_type": "code",
   "execution_count": 64,
   "id": "cecb8339",
   "metadata": {},
   "outputs": [
    {
     "ename": "TypeError",
     "evalue": "'tuple' object does not support item assignment",
     "output_type": "error",
     "traceback": [
      "\u001b[1;31m---------------------------------------------------------------------------\u001b[0m",
      "\u001b[1;31mTypeError\u001b[0m                                 Traceback (most recent call last)",
      "Cell \u001b[1;32mIn[64], line 2\u001b[0m\n\u001b[0;32m      1\u001b[0m t\u001b[38;5;241m=\u001b[39m(\u001b[38;5;241m10\u001b[39m,\u001b[38;5;241m22\u001b[39m,\u001b[38;5;241m33\u001b[39m,\u001b[38;5;241m44\u001b[39m,\u001b[38;5;241m55\u001b[39m)\n\u001b[1;32m----> 2\u001b[0m t[\u001b[38;5;241m1\u001b[39m]\u001b[38;5;241m=\u001b[39m\u001b[38;5;241m200\u001b[39m \u001b[38;5;66;03m# tuple is immutable i.e not changable\u001b[39;00m\n\u001b[0;32m      3\u001b[0m \u001b[38;5;28mprint\u001b[39m(t)\n",
      "\u001b[1;31mTypeError\u001b[0m: 'tuple' object does not support item assignment"
     ]
    }
   ],
   "source": [
    "t=(10,22,33,44,55)\n",
    "t[1]=200 # tuple is immutable i.e not changable\n",
    "print(t)"
   ]
  },
  {
   "cell_type": "code",
   "execution_count": 65,
   "id": "13e08016",
   "metadata": {},
   "outputs": [
    {
     "data": {
      "text/plain": [
       "(55, 44, 33, 22, 10)"
      ]
     },
     "execution_count": 65,
     "metadata": {},
     "output_type": "execute_result"
    }
   ],
   "source": [
    "# reverse print\n",
    "t[::-1]"
   ]
  },
  {
   "cell_type": "code",
   "execution_count": 66,
   "id": "b80fa268",
   "metadata": {},
   "outputs": [
    {
     "data": {
      "text/plain": [
       "(1, 23, 3, 2, 41, 4)"
      ]
     },
     "execution_count": 66,
     "metadata": {},
     "output_type": "execute_result"
    }
   ],
   "source": [
    "# concatenation +\n",
    "t1=(1,23,3)\n",
    "t2=(2,41,4)\n",
    "t1+t2"
   ]
  },
  {
   "cell_type": "code",
   "execution_count": 67,
   "id": "e991a730",
   "metadata": {},
   "outputs": [
    {
     "data": {
      "text/plain": [
       "(1, 23, 3, 1, 23, 3, 1, 23, 3, 1, 23, 3)"
      ]
     },
     "execution_count": 67,
     "metadata": {},
     "output_type": "execute_result"
    }
   ],
   "source": [
    "#repetition *\n",
    "t1*4"
   ]
  },
  {
   "cell_type": "code",
   "execution_count": 68,
   "id": "d8e572e9",
   "metadata": {},
   "outputs": [
    {
     "name": "stdout",
     "output_type": "stream",
     "text": [
      "['__add__', '__class__', '__class_getitem__', '__contains__', '__delattr__', '__dir__', '__doc__', '__eq__', '__format__', '__ge__', '__getattribute__', '__getitem__', '__getnewargs__', '__getstate__', '__gt__', '__hash__', '__init__', '__init_subclass__', '__iter__', '__le__', '__len__', '__lt__', '__mul__', '__ne__', '__new__', '__reduce__', '__reduce_ex__', '__repr__', '__rmul__', '__setattr__', '__sizeof__', '__str__', '__subclasshook__', 'count', 'index']\n"
     ]
    }
   ],
   "source": [
    "print(dir(t))"
   ]
  },
  {
   "cell_type": "code",
   "execution_count": 70,
   "id": "68f42828",
   "metadata": {},
   "outputs": [
    {
     "data": {
      "text/plain": [
       "1"
      ]
     },
     "execution_count": 70,
     "metadata": {},
     "output_type": "execute_result"
    }
   ],
   "source": [
    "t1.index(23)"
   ]
  },
  {
   "cell_type": "code",
   "execution_count": 71,
   "id": "ef1cfd8d",
   "metadata": {},
   "outputs": [
    {
     "data": {
      "text/plain": [
       "4"
      ]
     },
     "execution_count": 71,
     "metadata": {},
     "output_type": "execute_result"
    }
   ],
   "source": [
    "t1=(1, 23, 3, 1, 23, 3, 1, 23, 3, 1, 23, 3)\n",
    "t1.count(23)"
   ]
  },
  {
   "cell_type": "markdown",
   "id": "c983c222",
   "metadata": {},
   "source": [
    "## Dictiionary \n",
    "* Dictionary is a set of key and value pair or collection of items\n",
    "* dictionary is created by using {}\n",
    "* in dictionary key acts as a index to access the values"
   ]
  },
  {
   "cell_type": "code",
   "execution_count": 75,
   "id": "11b55905",
   "metadata": {},
   "outputs": [
    {
     "name": "stdout",
     "output_type": "stream",
     "text": [
      "{1: 'a', 2: 'b', 3: 'c', 4: 'd'}\n",
      "dict_keys([1, 2, 3, 4])\n",
      "dict_values(['a', 'b', 'c', 'd'])\n"
     ]
    }
   ],
   "source": [
    "d={1:'a',2:'b',3:'c',4:'d'} #{key:value}\n",
    "print(d)\n",
    "print(d.keys())\n",
    "print(d.values())"
   ]
  },
  {
   "cell_type": "code",
   "execution_count": 81,
   "id": "9d4ad194",
   "metadata": {},
   "outputs": [
    {
     "name": "stdout",
     "output_type": "stream",
     "text": [
      "dict_keys(['stud1', 'stud2', 'stud3', 'stud4', 'stud5'])\n",
      "dict_values([67, 88, 89, 67, 34])\n"
     ]
    }
   ],
   "source": [
    "d={\"stud1\":67,\"stud2\":88,\"stud3\":89,\"stud4\":67,\"stud5\":34}\n",
    "print(d.keys())\n",
    "print(d.values())"
   ]
  },
  {
   "cell_type": "code",
   "execution_count": 82,
   "id": "48af2828",
   "metadata": {},
   "outputs": [
    {
     "data": {
      "text/plain": [
       "67"
      ]
     },
     "execution_count": 82,
     "metadata": {},
     "output_type": "execute_result"
    }
   ],
   "source": [
    "d[\"stud1\"]"
   ]
  },
  {
   "cell_type": "code",
   "execution_count": 83,
   "id": "cfd4183b",
   "metadata": {},
   "outputs": [
    {
     "ename": "KeyError",
     "evalue": "88",
     "output_type": "error",
     "traceback": [
      "\u001b[1;31m---------------------------------------------------------------------------\u001b[0m",
      "\u001b[1;31mKeyError\u001b[0m                                  Traceback (most recent call last)",
      "Cell \u001b[1;32mIn[83], line 1\u001b[0m\n\u001b[1;32m----> 1\u001b[0m d[\u001b[38;5;241m88\u001b[39m]\n",
      "\u001b[1;31mKeyError\u001b[0m: 88"
     ]
    }
   ],
   "source": [
    "d[88] # error,,, with key as index we can retrive value but vice versa is error"
   ]
  },
  {
   "cell_type": "code",
   "execution_count": 84,
   "id": "9bb0c7bd",
   "metadata": {},
   "outputs": [
    {
     "name": "stdout",
     "output_type": "stream",
     "text": [
      "stud1 stud2 stud3 stud4 stud5 "
     ]
    }
   ],
   "source": [
    "for i in d:\n",
    "    print(i,end=\" \")"
   ]
  },
  {
   "cell_type": "code",
   "execution_count": 87,
   "id": "84d24f0f",
   "metadata": {},
   "outputs": [
    {
     "name": "stdout",
     "output_type": "stream",
     "text": [
      "stud1 stud2 stud3 stud4 stud5 "
     ]
    }
   ],
   "source": [
    "for i in d.keys():\n",
    "    print(i,end=\" \")"
   ]
  },
  {
   "cell_type": "code",
   "execution_count": 88,
   "id": "59e19b66",
   "metadata": {},
   "outputs": [
    {
     "name": "stdout",
     "output_type": "stream",
     "text": [
      "67\n",
      "88\n",
      "89\n",
      "67\n",
      "34\n"
     ]
    }
   ],
   "source": [
    "for v in d.values():\n",
    "    print(v)"
   ]
  },
  {
   "cell_type": "code",
   "execution_count": 89,
   "id": "e3fad202",
   "metadata": {},
   "outputs": [
    {
     "name": "stdout",
     "output_type": "stream",
     "text": [
      "stud1 : 67\n",
      "stud2 : 88\n",
      "stud3 : 89\n",
      "stud4 : 67\n",
      "stud5 : 34\n"
     ]
    }
   ],
   "source": [
    "for k,v in d.items():\n",
    "    print(k,':',v)"
   ]
  },
  {
   "cell_type": "code",
   "execution_count": 90,
   "id": "4435eca0",
   "metadata": {},
   "outputs": [
    {
     "data": {
      "text/plain": [
       "{'stud1': 67, 'stud2': 88, 'stud3': 89, 'stud4': 67, 'stud5': 34}"
      ]
     },
     "execution_count": 90,
     "metadata": {},
     "output_type": "execute_result"
    }
   ],
   "source": [
    "d"
   ]
  },
  {
   "cell_type": "code",
   "execution_count": 92,
   "id": "90ccabe3",
   "metadata": {},
   "outputs": [
    {
     "data": {
      "text/plain": [
       "{'stud1': 67, 'stud2': 88, 'stud3': 89, 'stud4': 67, 'stud5': 85, 'stud6': 85}"
      ]
     },
     "execution_count": 92,
     "metadata": {},
     "output_type": "execute_result"
    }
   ],
   "source": [
    "# changing values of a dictionary\n",
    "\n",
    "d[\"stud5\"]=85\n",
    "d"
   ]
  },
  {
   "cell_type": "code",
   "execution_count": 104,
   "id": "51a06073",
   "metadata": {},
   "outputs": [
    {
     "data": {
      "text/plain": [
       "{'stud1': 67,\n",
       " 'stud2': 88,\n",
       " 'stud3': 89,\n",
       " 'stud4': 67,\n",
       " 'stud5': 85,\n",
       " 'stud6': 85,\n",
       " 'step7': 89}"
      ]
     },
     "execution_count": 104,
     "metadata": {},
     "output_type": "execute_result"
    }
   ],
   "source": [
    "# adding items to a dictionary\n",
    "d[\"step7\"]=89\n",
    "d"
   ]
  },
  {
   "cell_type": "code",
   "execution_count": 94,
   "id": "3d1a3a8b",
   "metadata": {},
   "outputs": [
    {
     "data": {
      "text/plain": [
       "7"
      ]
     },
     "execution_count": 94,
     "metadata": {},
     "output_type": "execute_result"
    }
   ],
   "source": [
    "# length of a dictionary\n",
    "len(d)"
   ]
  },
  {
   "cell_type": "code",
   "execution_count": 95,
   "id": "15159bf2",
   "metadata": {},
   "outputs": [
    {
     "name": "stdout",
     "output_type": "stream",
     "text": [
      "Help on built-in function clear:\n",
      "\n",
      "clear(...) method of builtins.dict instance\n",
      "    D.clear() -> None.  Remove all items from D.\n",
      "\n"
     ]
    }
   ],
   "source": [
    "help(d.clear)"
   ]
  },
  {
   "cell_type": "code",
   "execution_count": 105,
   "id": "84755ca1",
   "metadata": {},
   "outputs": [
    {
     "name": "stdout",
     "output_type": "stream",
     "text": [
      "89\n",
      "{'stud1': 67, 'stud2': 88, 'stud3': 89, 'stud4': 67, 'stud5': 85, 'stud6': 85, 'step7': 89}\n",
      "stud3 : 89\n",
      "step7 : 89\n"
     ]
    }
   ],
   "source": [
    "m=max(d.values())\n",
    "print(m)\n",
    "print(d)\n",
    "for k,v in d.items():\n",
    "    if(v==m):\n",
    "        print(k,':',v)"
   ]
  },
  {
   "cell_type": "code",
   "execution_count": null,
   "id": "dfed6b04",
   "metadata": {},
   "outputs": [],
   "source": []
  },
  {
   "cell_type": "code",
   "execution_count": null,
   "id": "c20c4fdd",
   "metadata": {},
   "outputs": [],
   "source": []
  }
 ],
 "metadata": {
  "kernelspec": {
   "display_name": "Python 3 (ipykernel)",
   "language": "python",
   "name": "python3"
  },
  "language_info": {
   "codemirror_mode": {
    "name": "ipython",
    "version": 3
   },
   "file_extension": ".py",
   "mimetype": "text/x-python",
   "name": "python",
   "nbconvert_exporter": "python",
   "pygments_lexer": "ipython3",
   "version": "3.11.3"
  }
 },
 "nbformat": 4,
 "nbformat_minor": 5
}
